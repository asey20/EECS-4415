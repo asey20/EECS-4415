{
 "cells": [
  {
   "cell_type": "markdown",
   "metadata": {},
   "source": [
    "# GROUP NAMES:\n",
    "\n",
    "- Gilbert Andze Tsoungui \t211262656 christ18\n",
    "- Jaskaran Garha\t214314439\tgarhajas\n",
    "- David  Geller \t\t214404255 \tdgeller\n",
    "- William Zhen \t214305171 \twill636\n",
    "\n",
    "# This project has been done with jupyter notebook\n"
   ]
  },
  {
   "cell_type": "markdown",
   "metadata": {},
   "source": [
    "# Data Source\n",
    "\n",
    "[Data Source Link](https://www.transtats.bts.gov/DL_SelectFields.asp?Table_ID=236)"
   ]
  },
  {
   "cell_type": "code",
   "execution_count": null,
   "metadata": {},
   "outputs": [],
   "source": [
    "# Data Ingestion\n",
    "\n",
    "#### Our Plan in this project was to use spark to process CSV files coming from the Bureau of Transportation Statistics and use graphframe to load data in which airport are represented as vertices and flight as edges. We have encountered some problems in that process.\n",
    "\n",
    "* ##### We quickly realized that spark has a lot of dependencies, some of our functions didn't work because we didn't have the right scala version install or the right python version install.\n",
    "* ##### it 's was easier for us to move to panda and Jupyter because panda only require python\n",
    "\n"
   ]
  },
  {
   "cell_type": "code",
   "execution_count": 10,
   "metadata": {},
   "outputs": [],
   "source": [
    "import pandas as pd"
   ]
  },
  {
   "cell_type": "markdown",
   "metadata": {},
   "source": [
    "------------------------------------------\n",
    "# 2017 data analysis\n",
    "------------------------------------------"
   ]
  },
  {
   "cell_type": "code",
   "execution_count": 11,
   "metadata": {},
   "outputs": [],
   "source": [
    "data_2017 = pd.read_csv('2017.csv')"
   ]
  },
  {
   "cell_type": "code",
   "execution_count": 12,
   "metadata": {},
   "outputs": [
    {
     "name": "stdout",
     "output_type": "stream",
     "text": [
      "<class 'pandas.core.frame.DataFrame'>\n",
      "RangeIndex: 464205 entries, 0 to 464204\n",
      "Data columns (total 40 columns):\n",
      "YEAR                     464205 non-null int64\n",
      "QUARTER                  464205 non-null int64\n",
      "MONTH                    464205 non-null int64\n",
      "DAY_OF_MONTH             464205 non-null int64\n",
      "DAY_OF_WEEK              464205 non-null int64\n",
      "FL_DATE                  464205 non-null object\n",
      "OP_UNIQUE_CARRIER        464205 non-null object\n",
      "OP_CARRIER_AIRLINE_ID    464205 non-null int64\n",
      "OP_CARRIER               464205 non-null object\n",
      "ORIGIN_AIRPORT_ID        464205 non-null int64\n",
      "ORIGIN_AIRPORT_SEQ_ID    464205 non-null int64\n",
      "ORIGIN_CITY_MARKET_ID    464205 non-null int64\n",
      "ORIGIN                   464205 non-null object\n",
      "ORIGIN_CITY_NAME         464205 non-null object\n",
      "ORIGIN_STATE_ABR         464205 non-null object\n",
      "ORIGIN_STATE_FIPS        464205 non-null int64\n",
      "ORIGIN_STATE_NM          464205 non-null object\n",
      "ORIGIN_WAC               464205 non-null int64\n",
      "DEST_AIRPORT_ID          464205 non-null int64\n",
      "DEST_AIRPORT_SEQ_ID      464205 non-null int64\n",
      "DEST_CITY_MARKET_ID      464205 non-null int64\n",
      "DEST                     464205 non-null object\n",
      "DEST_CITY_NAME           464205 non-null object\n",
      "DEST_STATE_ABR           464205 non-null object\n",
      "DEST_STATE_FIPS          464205 non-null int64\n",
      "DEST_STATE_NM            464205 non-null object\n",
      "DEST_WAC                 464205 non-null int64\n",
      "DEP_DELAY                459063 non-null float64\n",
      "DEP_DELAY_NEW            459063 non-null float64\n",
      "ARR_TIME                 458665 non-null float64\n",
      "ARR_DELAY                457892 non-null float64\n",
      "ARR_DELAY_NEW            457892 non-null float64\n",
      "CANCELLED                464205 non-null float64\n",
      "CANCELLATION_CODE        5324 non-null object\n",
      "CARRIER_DELAY            85302 non-null float64\n",
      "WEATHER_DELAY            85302 non-null float64\n",
      "NAS_DELAY                85302 non-null float64\n",
      "SECURITY_DELAY           85302 non-null float64\n",
      "LATE_AIRCRAFT_DELAY      85302 non-null float64\n",
      "Unnamed: 39              0 non-null float64\n",
      "dtypes: float64(12), int64(16), object(12)\n",
      "memory usage: 141.7+ MB\n"
     ]
    }
   ],
   "source": [
    "data_2017.info()"
   ]
  },
  {
   "cell_type": "code",
   "execution_count": 13,
   "metadata": {},
   "outputs": [
    {
     "data": {
      "text/html": [
       "<div>\n",
       "<style scoped>\n",
       "    .dataframe tbody tr th:only-of-type {\n",
       "        vertical-align: middle;\n",
       "    }\n",
       "\n",
       "    .dataframe tbody tr th {\n",
       "        vertical-align: top;\n",
       "    }\n",
       "\n",
       "    .dataframe thead th {\n",
       "        text-align: right;\n",
       "    }\n",
       "</style>\n",
       "<table border=\"1\" class=\"dataframe\">\n",
       "  <thead>\n",
       "    <tr style=\"text-align: right;\">\n",
       "      <th></th>\n",
       "      <th>YEAR</th>\n",
       "      <th>QUARTER</th>\n",
       "      <th>MONTH</th>\n",
       "      <th>DAY_OF_MONTH</th>\n",
       "      <th>DAY_OF_WEEK</th>\n",
       "      <th>OP_CARRIER_AIRLINE_ID</th>\n",
       "      <th>ORIGIN_AIRPORT_ID</th>\n",
       "      <th>ORIGIN_AIRPORT_SEQ_ID</th>\n",
       "      <th>ORIGIN_CITY_MARKET_ID</th>\n",
       "      <th>ORIGIN_STATE_FIPS</th>\n",
       "      <th>...</th>\n",
       "      <th>ARR_TIME</th>\n",
       "      <th>ARR_DELAY</th>\n",
       "      <th>ARR_DELAY_NEW</th>\n",
       "      <th>CANCELLED</th>\n",
       "      <th>CARRIER_DELAY</th>\n",
       "      <th>WEATHER_DELAY</th>\n",
       "      <th>NAS_DELAY</th>\n",
       "      <th>SECURITY_DELAY</th>\n",
       "      <th>LATE_AIRCRAFT_DELAY</th>\n",
       "      <th>Unnamed: 39</th>\n",
       "    </tr>\n",
       "  </thead>\n",
       "  <tbody>\n",
       "    <tr>\n",
       "      <td>count</td>\n",
       "      <td>464205.0</td>\n",
       "      <td>464205.0</td>\n",
       "      <td>464205.0</td>\n",
       "      <td>464205.000000</td>\n",
       "      <td>464205.000000</td>\n",
       "      <td>464205.000000</td>\n",
       "      <td>464205.000000</td>\n",
       "      <td>4.642050e+05</td>\n",
       "      <td>464205.000000</td>\n",
       "      <td>464205.000000</td>\n",
       "      <td>...</td>\n",
       "      <td>458665.000000</td>\n",
       "      <td>457892.000000</td>\n",
       "      <td>457892.000000</td>\n",
       "      <td>464205.000000</td>\n",
       "      <td>85302.000000</td>\n",
       "      <td>85302.000000</td>\n",
       "      <td>85302.000000</td>\n",
       "      <td>85302.000000</td>\n",
       "      <td>85302.000000</td>\n",
       "      <td>0.0</td>\n",
       "    </tr>\n",
       "    <tr>\n",
       "      <td>mean</td>\n",
       "      <td>2017.0</td>\n",
       "      <td>4.0</td>\n",
       "      <td>12.0</td>\n",
       "      <td>16.056678</td>\n",
       "      <td>4.126043</td>\n",
       "      <td>19896.346211</td>\n",
       "      <td>12721.423955</td>\n",
       "      <td>1.272146e+06</td>\n",
       "      <td>31746.268358</td>\n",
       "      <td>25.359529</td>\n",
       "      <td>...</td>\n",
       "      <td>1470.914521</td>\n",
       "      <td>3.586025</td>\n",
       "      <td>12.792139</td>\n",
       "      <td>0.011469</td>\n",
       "      <td>20.885395</td>\n",
       "      <td>3.879745</td>\n",
       "      <td>14.145319</td>\n",
       "      <td>0.139844</td>\n",
       "      <td>24.008241</td>\n",
       "      <td>NaN</td>\n",
       "    </tr>\n",
       "    <tr>\n",
       "      <td>std</td>\n",
       "      <td>0.0</td>\n",
       "      <td>0.0</td>\n",
       "      <td>0.0</td>\n",
       "      <td>8.890807</td>\n",
       "      <td>1.980423</td>\n",
       "      <td>382.736157</td>\n",
       "      <td>1533.205097</td>\n",
       "      <td>1.533202e+05</td>\n",
       "      <td>1275.181789</td>\n",
       "      <td>16.533006</td>\n",
       "      <td>...</td>\n",
       "      <td>542.013596</td>\n",
       "      <td>48.810253</td>\n",
       "      <td>45.192311</td>\n",
       "      <td>0.106478</td>\n",
       "      <td>65.858010</td>\n",
       "      <td>36.449316</td>\n",
       "      <td>36.104882</td>\n",
       "      <td>2.923123</td>\n",
       "      <td>47.193826</td>\n",
       "      <td>NaN</td>\n",
       "    </tr>\n",
       "    <tr>\n",
       "      <td>min</td>\n",
       "      <td>2017.0</td>\n",
       "      <td>4.0</td>\n",
       "      <td>12.0</td>\n",
       "      <td>1.000000</td>\n",
       "      <td>1.000000</td>\n",
       "      <td>19393.000000</td>\n",
       "      <td>10135.000000</td>\n",
       "      <td>1.013505e+06</td>\n",
       "      <td>30070.000000</td>\n",
       "      <td>1.000000</td>\n",
       "      <td>...</td>\n",
       "      <td>1.000000</td>\n",
       "      <td>-89.000000</td>\n",
       "      <td>0.000000</td>\n",
       "      <td>0.000000</td>\n",
       "      <td>0.000000</td>\n",
       "      <td>0.000000</td>\n",
       "      <td>0.000000</td>\n",
       "      <td>0.000000</td>\n",
       "      <td>0.000000</td>\n",
       "      <td>NaN</td>\n",
       "    </tr>\n",
       "    <tr>\n",
       "      <td>25%</td>\n",
       "      <td>2017.0</td>\n",
       "      <td>4.0</td>\n",
       "      <td>12.0</td>\n",
       "      <td>8.000000</td>\n",
       "      <td>2.000000</td>\n",
       "      <td>19690.000000</td>\n",
       "      <td>11292.000000</td>\n",
       "      <td>1.129202e+06</td>\n",
       "      <td>30693.000000</td>\n",
       "      <td>12.000000</td>\n",
       "      <td>...</td>\n",
       "      <td>1052.000000</td>\n",
       "      <td>-16.000000</td>\n",
       "      <td>0.000000</td>\n",
       "      <td>0.000000</td>\n",
       "      <td>0.000000</td>\n",
       "      <td>0.000000</td>\n",
       "      <td>0.000000</td>\n",
       "      <td>0.000000</td>\n",
       "      <td>0.000000</td>\n",
       "      <td>NaN</td>\n",
       "    </tr>\n",
       "    <tr>\n",
       "      <td>50%</td>\n",
       "      <td>2017.0</td>\n",
       "      <td>4.0</td>\n",
       "      <td>12.0</td>\n",
       "      <td>16.000000</td>\n",
       "      <td>4.000000</td>\n",
       "      <td>19805.000000</td>\n",
       "      <td>12892.000000</td>\n",
       "      <td>1.289208e+06</td>\n",
       "      <td>31454.000000</td>\n",
       "      <td>24.000000</td>\n",
       "      <td>...</td>\n",
       "      <td>1513.000000</td>\n",
       "      <td>-6.000000</td>\n",
       "      <td>0.000000</td>\n",
       "      <td>0.000000</td>\n",
       "      <td>3.000000</td>\n",
       "      <td>0.000000</td>\n",
       "      <td>1.000000</td>\n",
       "      <td>0.000000</td>\n",
       "      <td>4.000000</td>\n",
       "      <td>NaN</td>\n",
       "    </tr>\n",
       "    <tr>\n",
       "      <td>75%</td>\n",
       "      <td>2017.0</td>\n",
       "      <td>4.0</td>\n",
       "      <td>12.0</td>\n",
       "      <td>24.000000</td>\n",
       "      <td>6.000000</td>\n",
       "      <td>20304.000000</td>\n",
       "      <td>14057.000000</td>\n",
       "      <td>1.405702e+06</td>\n",
       "      <td>32519.000000</td>\n",
       "      <td>39.000000</td>\n",
       "      <td>...</td>\n",
       "      <td>1920.000000</td>\n",
       "      <td>7.000000</td>\n",
       "      <td>7.000000</td>\n",
       "      <td>0.000000</td>\n",
       "      <td>18.000000</td>\n",
       "      <td>0.000000</td>\n",
       "      <td>18.000000</td>\n",
       "      <td>0.000000</td>\n",
       "      <td>29.000000</td>\n",
       "      <td>NaN</td>\n",
       "    </tr>\n",
       "    <tr>\n",
       "      <td>max</td>\n",
       "      <td>2017.0</td>\n",
       "      <td>4.0</td>\n",
       "      <td>12.0</td>\n",
       "      <td>31.000000</td>\n",
       "      <td>7.000000</td>\n",
       "      <td>21171.000000</td>\n",
       "      <td>16218.000000</td>\n",
       "      <td>1.621801e+06</td>\n",
       "      <td>35991.000000</td>\n",
       "      <td>78.000000</td>\n",
       "      <td>...</td>\n",
       "      <td>2400.000000</td>\n",
       "      <td>2189.000000</td>\n",
       "      <td>2189.000000</td>\n",
       "      <td>1.000000</td>\n",
       "      <td>1696.000000</td>\n",
       "      <td>1587.000000</td>\n",
       "      <td>1605.000000</td>\n",
       "      <td>244.000000</td>\n",
       "      <td>1756.000000</td>\n",
       "      <td>NaN</td>\n",
       "    </tr>\n",
       "  </tbody>\n",
       "</table>\n",
       "<p>8 rows × 28 columns</p>\n",
       "</div>"
      ],
      "text/plain": [
       "           YEAR   QUARTER     MONTH   DAY_OF_MONTH    DAY_OF_WEEK  \\\n",
       "count  464205.0  464205.0  464205.0  464205.000000  464205.000000   \n",
       "mean     2017.0       4.0      12.0      16.056678       4.126043   \n",
       "std         0.0       0.0       0.0       8.890807       1.980423   \n",
       "min      2017.0       4.0      12.0       1.000000       1.000000   \n",
       "25%      2017.0       4.0      12.0       8.000000       2.000000   \n",
       "50%      2017.0       4.0      12.0      16.000000       4.000000   \n",
       "75%      2017.0       4.0      12.0      24.000000       6.000000   \n",
       "max      2017.0       4.0      12.0      31.000000       7.000000   \n",
       "\n",
       "       OP_CARRIER_AIRLINE_ID  ORIGIN_AIRPORT_ID  ORIGIN_AIRPORT_SEQ_ID  \\\n",
       "count          464205.000000      464205.000000           4.642050e+05   \n",
       "mean            19896.346211       12721.423955           1.272146e+06   \n",
       "std               382.736157        1533.205097           1.533202e+05   \n",
       "min             19393.000000       10135.000000           1.013505e+06   \n",
       "25%             19690.000000       11292.000000           1.129202e+06   \n",
       "50%             19805.000000       12892.000000           1.289208e+06   \n",
       "75%             20304.000000       14057.000000           1.405702e+06   \n",
       "max             21171.000000       16218.000000           1.621801e+06   \n",
       "\n",
       "       ORIGIN_CITY_MARKET_ID  ORIGIN_STATE_FIPS  ...       ARR_TIME  \\\n",
       "count          464205.000000      464205.000000  ...  458665.000000   \n",
       "mean            31746.268358          25.359529  ...    1470.914521   \n",
       "std              1275.181789          16.533006  ...     542.013596   \n",
       "min             30070.000000           1.000000  ...       1.000000   \n",
       "25%             30693.000000          12.000000  ...    1052.000000   \n",
       "50%             31454.000000          24.000000  ...    1513.000000   \n",
       "75%             32519.000000          39.000000  ...    1920.000000   \n",
       "max             35991.000000          78.000000  ...    2400.000000   \n",
       "\n",
       "           ARR_DELAY  ARR_DELAY_NEW      CANCELLED  CARRIER_DELAY  \\\n",
       "count  457892.000000  457892.000000  464205.000000   85302.000000   \n",
       "mean        3.586025      12.792139       0.011469      20.885395   \n",
       "std        48.810253      45.192311       0.106478      65.858010   \n",
       "min       -89.000000       0.000000       0.000000       0.000000   \n",
       "25%       -16.000000       0.000000       0.000000       0.000000   \n",
       "50%        -6.000000       0.000000       0.000000       3.000000   \n",
       "75%         7.000000       7.000000       0.000000      18.000000   \n",
       "max      2189.000000    2189.000000       1.000000    1696.000000   \n",
       "\n",
       "       WEATHER_DELAY     NAS_DELAY  SECURITY_DELAY  LATE_AIRCRAFT_DELAY  \\\n",
       "count   85302.000000  85302.000000    85302.000000         85302.000000   \n",
       "mean        3.879745     14.145319        0.139844            24.008241   \n",
       "std        36.449316     36.104882        2.923123            47.193826   \n",
       "min         0.000000      0.000000        0.000000             0.000000   \n",
       "25%         0.000000      0.000000        0.000000             0.000000   \n",
       "50%         0.000000      1.000000        0.000000             4.000000   \n",
       "75%         0.000000     18.000000        0.000000            29.000000   \n",
       "max      1587.000000   1605.000000      244.000000          1756.000000   \n",
       "\n",
       "       Unnamed: 39  \n",
       "count          0.0  \n",
       "mean           NaN  \n",
       "std            NaN  \n",
       "min            NaN  \n",
       "25%            NaN  \n",
       "50%            NaN  \n",
       "75%            NaN  \n",
       "max            NaN  \n",
       "\n",
       "[8 rows x 28 columns]"
      ]
     },
     "execution_count": 13,
     "metadata": {},
     "output_type": "execute_result"
    }
   ],
   "source": [
    "data_2017.describe()"
   ]
  },
  {
   "cell_type": "code",
   "execution_count": 14,
   "metadata": {},
   "outputs": [
    {
     "data": {
      "text/html": [
       "<div>\n",
       "<style scoped>\n",
       "    .dataframe tbody tr th:only-of-type {\n",
       "        vertical-align: middle;\n",
       "    }\n",
       "\n",
       "    .dataframe tbody tr th {\n",
       "        vertical-align: top;\n",
       "    }\n",
       "\n",
       "    .dataframe thead th {\n",
       "        text-align: right;\n",
       "    }\n",
       "</style>\n",
       "<table border=\"1\" class=\"dataframe\">\n",
       "  <thead>\n",
       "    <tr style=\"text-align: right;\">\n",
       "      <th></th>\n",
       "      <th>YEAR</th>\n",
       "      <th>QUARTER</th>\n",
       "      <th>MONTH</th>\n",
       "      <th>DAY_OF_MONTH</th>\n",
       "      <th>DAY_OF_WEEK</th>\n",
       "      <th>FL_DATE</th>\n",
       "      <th>OP_UNIQUE_CARRIER</th>\n",
       "      <th>OP_CARRIER_AIRLINE_ID</th>\n",
       "      <th>OP_CARRIER</th>\n",
       "      <th>ORIGIN_AIRPORT_ID</th>\n",
       "      <th>...</th>\n",
       "      <th>ARR_DELAY</th>\n",
       "      <th>ARR_DELAY_NEW</th>\n",
       "      <th>CANCELLED</th>\n",
       "      <th>CANCELLATION_CODE</th>\n",
       "      <th>CARRIER_DELAY</th>\n",
       "      <th>WEATHER_DELAY</th>\n",
       "      <th>NAS_DELAY</th>\n",
       "      <th>SECURITY_DELAY</th>\n",
       "      <th>LATE_AIRCRAFT_DELAY</th>\n",
       "      <th>Unnamed: 39</th>\n",
       "    </tr>\n",
       "  </thead>\n",
       "  <tbody>\n",
       "    <tr>\n",
       "      <td>0</td>\n",
       "      <td>2017</td>\n",
       "      <td>4</td>\n",
       "      <td>12</td>\n",
       "      <td>1</td>\n",
       "      <td>5</td>\n",
       "      <td>2017-12-01</td>\n",
       "      <td>OO</td>\n",
       "      <td>20304</td>\n",
       "      <td>OO</td>\n",
       "      <td>12892</td>\n",
       "      <td>...</td>\n",
       "      <td>-24.0</td>\n",
       "      <td>0.0</td>\n",
       "      <td>0.0</td>\n",
       "      <td>NaN</td>\n",
       "      <td>NaN</td>\n",
       "      <td>NaN</td>\n",
       "      <td>NaN</td>\n",
       "      <td>NaN</td>\n",
       "      <td>NaN</td>\n",
       "      <td>NaN</td>\n",
       "    </tr>\n",
       "    <tr>\n",
       "      <td>1</td>\n",
       "      <td>2017</td>\n",
       "      <td>4</td>\n",
       "      <td>12</td>\n",
       "      <td>1</td>\n",
       "      <td>5</td>\n",
       "      <td>2017-12-01</td>\n",
       "      <td>OO</td>\n",
       "      <td>20304</td>\n",
       "      <td>OO</td>\n",
       "      <td>12892</td>\n",
       "      <td>...</td>\n",
       "      <td>-17.0</td>\n",
       "      <td>0.0</td>\n",
       "      <td>0.0</td>\n",
       "      <td>NaN</td>\n",
       "      <td>NaN</td>\n",
       "      <td>NaN</td>\n",
       "      <td>NaN</td>\n",
       "      <td>NaN</td>\n",
       "      <td>NaN</td>\n",
       "      <td>NaN</td>\n",
       "    </tr>\n",
       "    <tr>\n",
       "      <td>2</td>\n",
       "      <td>2017</td>\n",
       "      <td>4</td>\n",
       "      <td>12</td>\n",
       "      <td>1</td>\n",
       "      <td>5</td>\n",
       "      <td>2017-12-01</td>\n",
       "      <td>OO</td>\n",
       "      <td>20304</td>\n",
       "      <td>OO</td>\n",
       "      <td>12892</td>\n",
       "      <td>...</td>\n",
       "      <td>-16.0</td>\n",
       "      <td>0.0</td>\n",
       "      <td>0.0</td>\n",
       "      <td>NaN</td>\n",
       "      <td>NaN</td>\n",
       "      <td>NaN</td>\n",
       "      <td>NaN</td>\n",
       "      <td>NaN</td>\n",
       "      <td>NaN</td>\n",
       "      <td>NaN</td>\n",
       "    </tr>\n",
       "    <tr>\n",
       "      <td>3</td>\n",
       "      <td>2017</td>\n",
       "      <td>4</td>\n",
       "      <td>12</td>\n",
       "      <td>1</td>\n",
       "      <td>5</td>\n",
       "      <td>2017-12-01</td>\n",
       "      <td>OO</td>\n",
       "      <td>20304</td>\n",
       "      <td>OO</td>\n",
       "      <td>13930</td>\n",
       "      <td>...</td>\n",
       "      <td>-13.0</td>\n",
       "      <td>0.0</td>\n",
       "      <td>0.0</td>\n",
       "      <td>NaN</td>\n",
       "      <td>NaN</td>\n",
       "      <td>NaN</td>\n",
       "      <td>NaN</td>\n",
       "      <td>NaN</td>\n",
       "      <td>NaN</td>\n",
       "      <td>NaN</td>\n",
       "    </tr>\n",
       "    <tr>\n",
       "      <td>4</td>\n",
       "      <td>2017</td>\n",
       "      <td>4</td>\n",
       "      <td>12</td>\n",
       "      <td>1</td>\n",
       "      <td>5</td>\n",
       "      <td>2017-12-01</td>\n",
       "      <td>OO</td>\n",
       "      <td>20304</td>\n",
       "      <td>OO</td>\n",
       "      <td>10140</td>\n",
       "      <td>...</td>\n",
       "      <td>-23.0</td>\n",
       "      <td>0.0</td>\n",
       "      <td>0.0</td>\n",
       "      <td>NaN</td>\n",
       "      <td>NaN</td>\n",
       "      <td>NaN</td>\n",
       "      <td>NaN</td>\n",
       "      <td>NaN</td>\n",
       "      <td>NaN</td>\n",
       "      <td>NaN</td>\n",
       "    </tr>\n",
       "  </tbody>\n",
       "</table>\n",
       "<p>5 rows × 40 columns</p>\n",
       "</div>"
      ],
      "text/plain": [
       "   YEAR  QUARTER  MONTH  DAY_OF_MONTH  DAY_OF_WEEK     FL_DATE  \\\n",
       "0  2017        4     12             1            5  2017-12-01   \n",
       "1  2017        4     12             1            5  2017-12-01   \n",
       "2  2017        4     12             1            5  2017-12-01   \n",
       "3  2017        4     12             1            5  2017-12-01   \n",
       "4  2017        4     12             1            5  2017-12-01   \n",
       "\n",
       "  OP_UNIQUE_CARRIER  OP_CARRIER_AIRLINE_ID OP_CARRIER  ORIGIN_AIRPORT_ID  ...  \\\n",
       "0                OO                  20304         OO              12892  ...   \n",
       "1                OO                  20304         OO              12892  ...   \n",
       "2                OO                  20304         OO              12892  ...   \n",
       "3                OO                  20304         OO              13930  ...   \n",
       "4                OO                  20304         OO              10140  ...   \n",
       "\n",
       "   ARR_DELAY  ARR_DELAY_NEW CANCELLED CANCELLATION_CODE CARRIER_DELAY  \\\n",
       "0      -24.0            0.0       0.0               NaN           NaN   \n",
       "1      -17.0            0.0       0.0               NaN           NaN   \n",
       "2      -16.0            0.0       0.0               NaN           NaN   \n",
       "3      -13.0            0.0       0.0               NaN           NaN   \n",
       "4      -23.0            0.0       0.0               NaN           NaN   \n",
       "\n",
       "   WEATHER_DELAY NAS_DELAY  SECURITY_DELAY  LATE_AIRCRAFT_DELAY  Unnamed: 39  \n",
       "0            NaN       NaN             NaN                  NaN          NaN  \n",
       "1            NaN       NaN             NaN                  NaN          NaN  \n",
       "2            NaN       NaN             NaN                  NaN          NaN  \n",
       "3            NaN       NaN             NaN                  NaN          NaN  \n",
       "4            NaN       NaN             NaN                  NaN          NaN  \n",
       "\n",
       "[5 rows x 40 columns]"
      ]
     },
     "execution_count": 14,
     "metadata": {},
     "output_type": "execute_result"
    }
   ],
   "source": [
    "data_2017.head()"
   ]
  },
  {
   "cell_type": "markdown",
   "metadata": {},
   "source": [
    "# Data Cleaning\n",
    "\n",
    "### As We can see in the above schema We don't need to do any cleaning on the data\n"
   ]
  },
  {
   "cell_type": "markdown",
   "metadata": {},
   "source": [
    "# Questions to answer (2017)"
   ]
  },
  {
   "cell_type": "markdown",
   "metadata": {},
   "source": [
    "### Which Trip have the most delays and cancellations?"
   ]
  },
  {
   "cell_type": "code",
   "execution_count": 15,
   "metadata": {},
   "outputs": [],
   "source": [
    "trip_with_delay_2017 = data_2017.groupby([\"ORIGIN_CITY_NAME\",\"DEST_CITY_NAME\"])[\"ARR_DELAY\"].mean()\\\n",
    ".sort_values(ascending=False).head(10)"
   ]
  },
  {
   "cell_type": "code",
   "execution_count": 16,
   "metadata": {},
   "outputs": [
    {
     "data": {
      "text/plain": [
       "ORIGIN_CITY_NAME   DEST_CITY_NAME     \n",
       "Pago Pago, TT      Honolulu, HI           156.600000\n",
       "Aspen, CO          Atlanta, GA            143.400000\n",
       "New York, NY       Indianapolis, IN       132.000000\n",
       "Jackson, WY        Houston, TX            126.750000\n",
       "Niagara Falls, NY  Fort Lauderdale, FL    124.500000\n",
       "Asheville, NC      Newark, NJ             116.741935\n",
       "New York, NY       Charlottesville, VA    112.500000\n",
       "Washington, DC     Eagle, CO              112.500000\n",
       "Eagle, CO          San Francisco, CA      107.000000\n",
       "Jackson, WY        Denver, CO              97.307692\n",
       "Name: ARR_DELAY, dtype: float64"
      ]
     },
     "execution_count": 16,
     "metadata": {},
     "output_type": "execute_result"
    }
   ],
   "source": [
    "trip_with_delay_2017"
   ]
  },
  {
   "cell_type": "markdown",
   "metadata": {},
   "source": [
    "# Vizualization With matplotlib"
   ]
  },
  {
   "cell_type": "code",
   "execution_count": 17,
   "metadata": {},
   "outputs": [],
   "source": [
    "%matplotlib inline"
   ]
  },
  {
   "cell_type": "code",
   "execution_count": 18,
   "metadata": {},
   "outputs": [
    {
     "data": {
      "text/plain": [
       "<matplotlib.axes._subplots.AxesSubplot at 0x11b1b5fd0>"
      ]
     },
     "execution_count": 18,
     "metadata": {},
     "output_type": "execute_result"
    },
    {
     "data": {
      "image/png": "[encoded data removed]",
      "text/plain": [
       "<Figure size 432x288 with 1 Axes>"
      ]
     },
     "metadata": {
      "needs_background": "light"
     },
     "output_type": "display_data"
    }
   ],
   "source": [
    "trip_with_delay_2017.plot(kind='bar', x='ORIGIN_CITY_NAME', y='ARR_DELAY')"
   ]
  },
  {
   "cell_type": "markdown",
   "metadata": {},
   "source": [
    "## Which Airline companies have the most cancellations ?"
   ]
  },
  {
   "cell_type": "code",
   "execution_count": 19,
   "metadata": {},
   "outputs": [],
   "source": [
    "airline_with_most_cancellations_2017 = data_2017.groupby(\"OP_UNIQUE_CARRIER\")[\"CANCELLATION_CODE\"].apply(lambda x: x.notnull().sum())\\\n",
    ".sort_values(ascending=False).head(10)"
   ]
  },
  {
   "cell_type": "code",
   "execution_count": 20,
   "metadata": {},
   "outputs": [
    {
     "data": {
      "text/plain": [
       "OP_UNIQUE_CARRIER\n",
       "DL    2141\n",
       "WN    1061\n",
       "OO     901\n",
       "EV     356\n",
       "AA     312\n",
       "NK     179\n",
       "AS     125\n",
       "UA      84\n",
       "F9      77\n",
       "B6      44\n",
       "Name: CANCELLATION_CODE, dtype: int64"
      ]
     },
     "execution_count": 20,
     "metadata": {},
     "output_type": "execute_result"
    }
   ],
   "source": [
    "airline_with_most_cancellations_2017"
   ]
  },
  {
   "cell_type": "code",
   "execution_count": 21,
   "metadata": {},
   "outputs": [
    {
     "data": {
      "text/plain": [
       "<matplotlib.axes._subplots.AxesSubplot at 0x11b7c07d0>"
      ]
     },
     "execution_count": 21,
     "metadata": {},
     "output_type": "execute_result"
    },
    {
     "data": {
      "image/png": "[encoded data removed]",
      "text/plain": [
       "<Figure size 432x288 with 1 Axes>"
      ]
     },
     "metadata": {
      "needs_background": "light"
     },
     "output_type": "display_data"
    }
   ],
   "source": [
    "airline_with_most_cancellations_2017.plot(kind='bar', x='OP_UNIQUE_CARRIER')"
   ]
  },
  {
   "cell_type": "markdown",
   "metadata": {},
   "source": [
    "# most common cause of delays\n"
   ]
  },
  {
   "cell_type": "code",
   "execution_count": 22,
   "metadata": {},
   "outputs": [],
   "source": [
    "weather_2017_delays_count = data_2017[data_2017['WEATHER_DELAY'] > 0.0][\"WEATHER_DELAY\"].notnull().sum()"
   ]
  },
  {
   "cell_type": "code",
   "execution_count": 23,
   "metadata": {},
   "outputs": [
    {
     "data": {
      "text/plain": [
       "4913"
      ]
     },
     "execution_count": 23,
     "metadata": {},
     "output_type": "execute_result"
    }
   ],
   "source": [
    "weather_2017_delays_count"
   ]
  },
  {
   "cell_type": "code",
   "execution_count": 24,
   "metadata": {},
   "outputs": [],
   "source": [
    "security_2017_delays_count = data_2017[data_2017['SECURITY_DELAY'] > 0.0]['SECURITY_DELAY'].notnull().sum()"
   ]
  },
  {
   "cell_type": "code",
   "execution_count": 25,
   "metadata": {},
   "outputs": [
    {
     "data": {
      "text/plain": [
       "417"
      ]
     },
     "execution_count": 25,
     "metadata": {},
     "output_type": "execute_result"
    }
   ],
   "source": [
    "security_2017_delays_count"
   ]
  },
  {
   "cell_type": "code",
   "execution_count": 27,
   "metadata": {},
   "outputs": [],
   "source": [
    "late_aircraft_2017_delays_count = data_2017[data_2017['LATE_AIRCRAFT_DELAY'] > 0.0]['LATE_AIRCRAFT_DELAY'].notnull().sum()"
   ]
  },
  {
   "cell_type": "code",
   "execution_count": 28,
   "metadata": {},
   "outputs": [
    {
     "data": {
      "text/plain": [
       "44845"
      ]
     },
     "execution_count": 28,
     "metadata": {},
     "output_type": "execute_result"
    }
   ],
   "source": [
    "late_aircraft_2017_delays_count"
   ]
  },
  {
   "cell_type": "code",
   "execution_count": 31,
   "metadata": {},
   "outputs": [],
   "source": [
    "carrier_2017_delays_count = data_2017[data_2017['CARRIER_DELAY'] > 0.0]['CARRIER_DELAY'].notnull().sum()"
   ]
  },
  {
   "cell_type": "code",
   "execution_count": 32,
   "metadata": {},
   "outputs": [
    {
     "data": {
      "text/plain": [
       "46455"
      ]
     },
     "execution_count": 32,
     "metadata": {},
     "output_type": "execute_result"
    }
   ],
   "source": [
    "carrier_2017_delays_count"
   ]
  },
  {
   "cell_type": "code",
   "execution_count": 33,
   "metadata": {},
   "outputs": [],
   "source": [
    "nas_2017_delays_count = data_2017[data_2017['NAS_DELAY'] > 0.0]['NAS_DELAY'].notnull().sum()"
   ]
  },
  {
   "cell_type": "code",
   "execution_count": 34,
   "metadata": {},
   "outputs": [
    {
     "data": {
      "text/plain": [
       "44392"
      ]
     },
     "execution_count": 34,
     "metadata": {},
     "output_type": "execute_result"
    }
   ],
   "source": [
    "nas_2017_delays_count"
   ]
  },
  {
   "cell_type": "markdown",
   "metadata": {},
   "source": [
    "# Now We need to create a new dataframe with the data we have and then vizualize it"
   ]
  },
  {
   "cell_type": "code",
   "execution_count": 41,
   "metadata": {},
   "outputs": [],
   "source": [
    "delay_causes_data_2017 = {\n",
    "    \"Delays Causes\":  [\"SECURITY_DELAY\",\"WEATHER_DELAY\",\"LATE_AIRCRAFT_DELAY\",\"CARRIER_DELAY\",\"NAS_DELAY\"],\n",
    "    \"Values\": [security_2017_delays_count,weather_2017_delays_count,late_aircraft_2017_delays_count,\n",
    "              carrier_2017_delays_count,nas_2017_delays_count]\n",
    "   \n",
    "}"
   ]
  },
  {
   "cell_type": "code",
   "execution_count": 42,
   "metadata": {},
   "outputs": [],
   "source": [
    "df_delays_causes_2017 = pd.DataFrame(delay_causes_data_2017,\n",
    "                                index=[\"SECURITY_DELAY\",\"WEATHER_DELAY\",\"LATE_AIRCRAFT_DELAY\",\"CARRIER_DELAY\",\"NAS_DELAY\"])"
   ]
  },
  {
   "cell_type": "code",
   "execution_count": 43,
   "metadata": {},
   "outputs": [
    {
     "data": {
      "text/html": [
       "<div>\n",
       "<style scoped>\n",
       "    .dataframe tbody tr th:only-of-type {\n",
       "        vertical-align: middle;\n",
       "    }\n",
       "\n",
       "    .dataframe tbody tr th {\n",
       "        vertical-align: top;\n",
       "    }\n",
       "\n",
       "    .dataframe thead th {\n",
       "        text-align: right;\n",
       "    }\n",
       "</style>\n",
       "<table border=\"1\" class=\"dataframe\">\n",
       "  <thead>\n",
       "    <tr style=\"text-align: right;\">\n",
       "      <th></th>\n",
       "      <th>Delays Causes</th>\n",
       "      <th>Values</th>\n",
       "    </tr>\n",
       "  </thead>\n",
       "  <tbody>\n",
       "    <tr>\n",
       "      <td>SECURITY_DELAY</td>\n",
       "      <td>SECURITY_DELAY</td>\n",
       "      <td>417</td>\n",
       "    </tr>\n",
       "    <tr>\n",
       "      <td>WEATHER_DELAY</td>\n",
       "      <td>WEATHER_DELAY</td>\n",
       "      <td>4913</td>\n",
       "    </tr>\n",
       "    <tr>\n",
       "      <td>LATE_AIRCRAFT_DELAY</td>\n",
       "      <td>LATE_AIRCRAFT_DELAY</td>\n",
       "      <td>44845</td>\n",
       "    </tr>\n",
       "    <tr>\n",
       "      <td>CARRIER_DELAY</td>\n",
       "      <td>CARRIER_DELAY</td>\n",
       "      <td>46455</td>\n",
       "    </tr>\n",
       "    <tr>\n",
       "      <td>NAS_DELAY</td>\n",
       "      <td>NAS_DELAY</td>\n",
       "      <td>44392</td>\n",
       "    </tr>\n",
       "  </tbody>\n",
       "</table>\n",
       "</div>"
      ],
      "text/plain": [
       "                           Delays Causes  Values\n",
       "SECURITY_DELAY            SECURITY_DELAY     417\n",
       "WEATHER_DELAY              WEATHER_DELAY    4913\n",
       "LATE_AIRCRAFT_DELAY  LATE_AIRCRAFT_DELAY   44845\n",
       "CARRIER_DELAY              CARRIER_DELAY   46455\n",
       "NAS_DELAY                      NAS_DELAY   44392"
      ]
     },
     "execution_count": 43,
     "metadata": {},
     "output_type": "execute_result"
    }
   ],
   "source": [
    "df_delays_causes_2017"
   ]
  },
  {
   "cell_type": "code",
   "execution_count": 44,
   "metadata": {},
   "outputs": [
    {
     "data": {
      "text/plain": [
       "<matplotlib.axes._subplots.AxesSubplot at 0x11aa85350>"
      ]
     },
     "execution_count": 44,
     "metadata": {},
     "output_type": "execute_result"
    },
    {
     "data": {
      "image/png": "[encoded data removed]",
      "text/plain": [
       "<Figure size 432x288 with 1 Axes>"
      ]
     },
     "metadata": {
      "needs_background": "light"
     },
     "output_type": "display_data"
    }
   ],
   "source": [
    "df_delays_causes_2017.plot(kind='bar',x=\"Delays Causes\", y=\"Values\")"
   ]
  },
  {
   "cell_type": "raw",
   "metadata": {},
   "source": [
    "df_delays_causes_2017.plot(kind='pie',x=\"Delays Causes\", y=\"Values\")"
   ]
  },
  {
   "cell_type": "markdown",
   "metadata": {},
   "source": [
    "# Now We need To repeat the same process for 2018 and 2019 data and then we will summarized our finding"
   ]
  },
  {
   "cell_type": "markdown",
   "metadata": {},
   "source": [
    "------------------------------------------\n",
    "# 2018 data analysis\n",
    "------------------------------------------"
   ]
  },
  {
   "cell_type": "code",
   "execution_count": 48,
   "metadata": {},
   "outputs": [],
   "source": [
    "data_2018 = pd.read_csv('2018.csv')"
   ]
  },
  {
   "cell_type": "code",
   "execution_count": 49,
   "metadata": {},
   "outputs": [
    {
     "name": "stdout",
     "output_type": "stream",
     "text": [
      "<class 'pandas.core.frame.DataFrame'>\n",
      "RangeIndex: 593842 entries, 0 to 593841\n",
      "Data columns (total 40 columns):\n",
      "YEAR                     593842 non-null int64\n",
      "QUARTER                  593842 non-null int64\n",
      "MONTH                    593842 non-null int64\n",
      "DAY_OF_MONTH             593842 non-null int64\n",
      "DAY_OF_WEEK              593842 non-null int64\n",
      "FL_DATE                  593842 non-null object\n",
      "OP_UNIQUE_CARRIER        593842 non-null object\n",
      "OP_CARRIER_AIRLINE_ID    593842 non-null int64\n",
      "OP_CARRIER               593842 non-null object\n",
      "ORIGIN_AIRPORT_ID        593842 non-null int64\n",
      "ORIGIN_AIRPORT_SEQ_ID    593842 non-null int64\n",
      "ORIGIN_CITY_MARKET_ID    593842 non-null int64\n",
      "ORIGIN                   593842 non-null object\n",
      "ORIGIN_CITY_NAME         593842 non-null object\n",
      "ORIGIN_STATE_ABR         593842 non-null object\n",
      "ORIGIN_STATE_FIPS        593842 non-null int64\n",
      "ORIGIN_STATE_NM          593842 non-null object\n",
      "ORIGIN_WAC               593842 non-null int64\n",
      "DEST_AIRPORT_ID          593842 non-null int64\n",
      "DEST_AIRPORT_SEQ_ID      593842 non-null int64\n",
      "DEST_CITY_MARKET_ID      593842 non-null int64\n",
      "DEST                     593842 non-null object\n",
      "DEST_CITY_NAME           593842 non-null object\n",
      "DEST_STATE_ABR           593842 non-null object\n",
      "DEST_STATE_FIPS          593842 non-null int64\n",
      "DEST_STATE_NM            593842 non-null object\n",
      "DEST_WAC                 593842 non-null int64\n",
      "DEP_DELAY                587316 non-null float64\n",
      "DEP_DELAY_NEW            587316 non-null float64\n",
      "ARR_TIME                 586812 non-null float64\n",
      "ARR_DELAY                585737 non-null float64\n",
      "ARR_DELAY_NEW            585737 non-null float64\n",
      "CANCELLED                593842 non-null float64\n",
      "CANCELLATION_CODE        6752 non-null object\n",
      "CARRIER_DELAY            108682 non-null float64\n",
      "WEATHER_DELAY            108682 non-null float64\n",
      "NAS_DELAY                108682 non-null float64\n",
      "SECURITY_DELAY           108682 non-null float64\n",
      "LATE_AIRCRAFT_DELAY      108682 non-null float64\n",
      "Unnamed: 39              0 non-null float64\n",
      "dtypes: float64(12), int64(16), object(12)\n",
      "memory usage: 181.2+ MB\n"
     ]
    }
   ],
   "source": [
    "data_2018.info()"
   ]
  },
  {
   "cell_type": "code",
   "execution_count": 51,
   "metadata": {},
   "outputs": [
    {
     "data": {
      "text/html": [
       "<div>\n",
       "<style scoped>\n",
       "    .dataframe tbody tr th:only-of-type {\n",
       "        vertical-align: middle;\n",
       "    }\n",
       "\n",
       "    .dataframe tbody tr th {\n",
       "        vertical-align: top;\n",
       "    }\n",
       "\n",
       "    .dataframe thead th {\n",
       "        text-align: right;\n",
       "    }\n",
       "</style>\n",
       "<table border=\"1\" class=\"dataframe\">\n",
       "  <thead>\n",
       "    <tr style=\"text-align: right;\">\n",
       "      <th></th>\n",
       "      <th>YEAR</th>\n",
       "      <th>QUARTER</th>\n",
       "      <th>MONTH</th>\n",
       "      <th>DAY_OF_MONTH</th>\n",
       "      <th>DAY_OF_WEEK</th>\n",
       "      <th>OP_CARRIER_AIRLINE_ID</th>\n",
       "      <th>ORIGIN_AIRPORT_ID</th>\n",
       "      <th>ORIGIN_AIRPORT_SEQ_ID</th>\n",
       "      <th>ORIGIN_CITY_MARKET_ID</th>\n",
       "      <th>ORIGIN_STATE_FIPS</th>\n",
       "      <th>...</th>\n",
       "      <th>ARR_TIME</th>\n",
       "      <th>ARR_DELAY</th>\n",
       "      <th>ARR_DELAY_NEW</th>\n",
       "      <th>CANCELLED</th>\n",
       "      <th>CARRIER_DELAY</th>\n",
       "      <th>WEATHER_DELAY</th>\n",
       "      <th>NAS_DELAY</th>\n",
       "      <th>SECURITY_DELAY</th>\n",
       "      <th>LATE_AIRCRAFT_DELAY</th>\n",
       "      <th>Unnamed: 39</th>\n",
       "    </tr>\n",
       "  </thead>\n",
       "  <tbody>\n",
       "    <tr>\n",
       "      <td>count</td>\n",
       "      <td>593842.0</td>\n",
       "      <td>593842.0</td>\n",
       "      <td>593842.0</td>\n",
       "      <td>593842.000000</td>\n",
       "      <td>593842.000000</td>\n",
       "      <td>593842.000000</td>\n",
       "      <td>593842.000000</td>\n",
       "      <td>5.938420e+05</td>\n",
       "      <td>593842.000000</td>\n",
       "      <td>593842.000000</td>\n",
       "      <td>...</td>\n",
       "      <td>586812.000000</td>\n",
       "      <td>585737.000000</td>\n",
       "      <td>585737.000000</td>\n",
       "      <td>593842.000000</td>\n",
       "      <td>108682.000000</td>\n",
       "      <td>108682.000000</td>\n",
       "      <td>108682.000000</td>\n",
       "      <td>108682.000000</td>\n",
       "      <td>108682.000000</td>\n",
       "      <td>0.0</td>\n",
       "    </tr>\n",
       "    <tr>\n",
       "      <td>mean</td>\n",
       "      <td>2018.0</td>\n",
       "      <td>4.0</td>\n",
       "      <td>12.0</td>\n",
       "      <td>16.097708</td>\n",
       "      <td>4.068542</td>\n",
       "      <td>19982.960934</td>\n",
       "      <td>12663.819996</td>\n",
       "      <td>1.266386e+06</td>\n",
       "      <td>31754.364932</td>\n",
       "      <td>26.851445</td>\n",
       "      <td>...</td>\n",
       "      <td>1475.573419</td>\n",
       "      <td>3.345676</td>\n",
       "      <td>12.308557</td>\n",
       "      <td>0.011370</td>\n",
       "      <td>19.622789</td>\n",
       "      <td>2.993136</td>\n",
       "      <td>13.756777</td>\n",
       "      <td>0.110313</td>\n",
       "      <td>23.981699</td>\n",
       "      <td>NaN</td>\n",
       "    </tr>\n",
       "    <tr>\n",
       "      <td>std</td>\n",
       "      <td>0.0</td>\n",
       "      <td>0.0</td>\n",
       "      <td>0.0</td>\n",
       "      <td>8.882057</td>\n",
       "      <td>2.056023</td>\n",
       "      <td>377.005582</td>\n",
       "      <td>1518.104527</td>\n",
       "      <td>1.518102e+05</td>\n",
       "      <td>1299.010919</td>\n",
       "      <td>16.455034</td>\n",
       "      <td>...</td>\n",
       "      <td>529.768351</td>\n",
       "      <td>45.232506</td>\n",
       "      <td>41.488637</td>\n",
       "      <td>0.106022</td>\n",
       "      <td>59.761106</td>\n",
       "      <td>30.963814</td>\n",
       "      <td>29.392049</td>\n",
       "      <td>2.653272</td>\n",
       "      <td>47.509043</td>\n",
       "      <td>NaN</td>\n",
       "    </tr>\n",
       "    <tr>\n",
       "      <td>min</td>\n",
       "      <td>2018.0</td>\n",
       "      <td>4.0</td>\n",
       "      <td>12.0</td>\n",
       "      <td>1.000000</td>\n",
       "      <td>1.000000</td>\n",
       "      <td>19393.000000</td>\n",
       "      <td>10135.000000</td>\n",
       "      <td>1.013505e+06</td>\n",
       "      <td>30070.000000</td>\n",
       "      <td>1.000000</td>\n",
       "      <td>...</td>\n",
       "      <td>1.000000</td>\n",
       "      <td>-117.000000</td>\n",
       "      <td>0.000000</td>\n",
       "      <td>0.000000</td>\n",
       "      <td>0.000000</td>\n",
       "      <td>0.000000</td>\n",
       "      <td>0.000000</td>\n",
       "      <td>0.000000</td>\n",
       "      <td>0.000000</td>\n",
       "      <td>NaN</td>\n",
       "    </tr>\n",
       "    <tr>\n",
       "      <td>25%</td>\n",
       "      <td>2018.0</td>\n",
       "      <td>4.0</td>\n",
       "      <td>12.0</td>\n",
       "      <td>8.000000</td>\n",
       "      <td>2.000000</td>\n",
       "      <td>19790.000000</td>\n",
       "      <td>11292.000000</td>\n",
       "      <td>1.129202e+06</td>\n",
       "      <td>30721.000000</td>\n",
       "      <td>12.000000</td>\n",
       "      <td>...</td>\n",
       "      <td>1057.000000</td>\n",
       "      <td>-15.000000</td>\n",
       "      <td>0.000000</td>\n",
       "      <td>0.000000</td>\n",
       "      <td>0.000000</td>\n",
       "      <td>0.000000</td>\n",
       "      <td>0.000000</td>\n",
       "      <td>0.000000</td>\n",
       "      <td>0.000000</td>\n",
       "      <td>NaN</td>\n",
       "    </tr>\n",
       "    <tr>\n",
       "      <td>50%</td>\n",
       "      <td>2018.0</td>\n",
       "      <td>4.0</td>\n",
       "      <td>12.0</td>\n",
       "      <td>16.000000</td>\n",
       "      <td>4.000000</td>\n",
       "      <td>19977.000000</td>\n",
       "      <td>12889.000000</td>\n",
       "      <td>1.288903e+06</td>\n",
       "      <td>31453.000000</td>\n",
       "      <td>26.000000</td>\n",
       "      <td>...</td>\n",
       "      <td>1512.000000</td>\n",
       "      <td>-6.000000</td>\n",
       "      <td>0.000000</td>\n",
       "      <td>0.000000</td>\n",
       "      <td>1.000000</td>\n",
       "      <td>0.000000</td>\n",
       "      <td>3.000000</td>\n",
       "      <td>0.000000</td>\n",
       "      <td>3.000000</td>\n",
       "      <td>NaN</td>\n",
       "    </tr>\n",
       "    <tr>\n",
       "      <td>75%</td>\n",
       "      <td>2018.0</td>\n",
       "      <td>4.0</td>\n",
       "      <td>12.0</td>\n",
       "      <td>24.000000</td>\n",
       "      <td>6.000000</td>\n",
       "      <td>20368.000000</td>\n",
       "      <td>13931.000000</td>\n",
       "      <td>1.393102e+06</td>\n",
       "      <td>32467.000000</td>\n",
       "      <td>42.000000</td>\n",
       "      <td>...</td>\n",
       "      <td>1917.000000</td>\n",
       "      <td>8.000000</td>\n",
       "      <td>8.000000</td>\n",
       "      <td>0.000000</td>\n",
       "      <td>18.000000</td>\n",
       "      <td>0.000000</td>\n",
       "      <td>18.000000</td>\n",
       "      <td>0.000000</td>\n",
       "      <td>29.000000</td>\n",
       "      <td>NaN</td>\n",
       "    </tr>\n",
       "    <tr>\n",
       "      <td>max</td>\n",
       "      <td>2018.0</td>\n",
       "      <td>4.0</td>\n",
       "      <td>12.0</td>\n",
       "      <td>31.000000</td>\n",
       "      <td>7.000000</td>\n",
       "      <td>20452.000000</td>\n",
       "      <td>16218.000000</td>\n",
       "      <td>1.621802e+06</td>\n",
       "      <td>35991.000000</td>\n",
       "      <td>78.000000</td>\n",
       "      <td>...</td>\n",
       "      <td>2400.000000</td>\n",
       "      <td>2108.000000</td>\n",
       "      <td>2108.000000</td>\n",
       "      <td>1.000000</td>\n",
       "      <td>1767.000000</td>\n",
       "      <td>2098.000000</td>\n",
       "      <td>1313.000000</td>\n",
       "      <td>349.000000</td>\n",
       "      <td>1400.000000</td>\n",
       "      <td>NaN</td>\n",
       "    </tr>\n",
       "  </tbody>\n",
       "</table>\n",
       "<p>8 rows × 28 columns</p>\n",
       "</div>"
      ],
      "text/plain": [
       "           YEAR   QUARTER     MONTH   DAY_OF_MONTH    DAY_OF_WEEK  \\\n",
       "count  593842.0  593842.0  593842.0  593842.000000  593842.000000   \n",
       "mean     2018.0       4.0      12.0      16.097708       4.068542   \n",
       "std         0.0       0.0       0.0       8.882057       2.056023   \n",
       "min      2018.0       4.0      12.0       1.000000       1.000000   \n",
       "25%      2018.0       4.0      12.0       8.000000       2.000000   \n",
       "50%      2018.0       4.0      12.0      16.000000       4.000000   \n",
       "75%      2018.0       4.0      12.0      24.000000       6.000000   \n",
       "max      2018.0       4.0      12.0      31.000000       7.000000   \n",
       "\n",
       "       OP_CARRIER_AIRLINE_ID  ORIGIN_AIRPORT_ID  ORIGIN_AIRPORT_SEQ_ID  \\\n",
       "count          593842.000000      593842.000000           5.938420e+05   \n",
       "mean            19982.960934       12663.819996           1.266386e+06   \n",
       "std               377.005582        1518.104527           1.518102e+05   \n",
       "min             19393.000000       10135.000000           1.013505e+06   \n",
       "25%             19790.000000       11292.000000           1.129202e+06   \n",
       "50%             19977.000000       12889.000000           1.288903e+06   \n",
       "75%             20368.000000       13931.000000           1.393102e+06   \n",
       "max             20452.000000       16218.000000           1.621802e+06   \n",
       "\n",
       "       ORIGIN_CITY_MARKET_ID  ORIGIN_STATE_FIPS  ...       ARR_TIME  \\\n",
       "count          593842.000000      593842.000000  ...  586812.000000   \n",
       "mean            31754.364932          26.851445  ...    1475.573419   \n",
       "std              1299.010919          16.455034  ...     529.768351   \n",
       "min             30070.000000           1.000000  ...       1.000000   \n",
       "25%             30721.000000          12.000000  ...    1057.000000   \n",
       "50%             31453.000000          26.000000  ...    1512.000000   \n",
       "75%             32467.000000          42.000000  ...    1917.000000   \n",
       "max             35991.000000          78.000000  ...    2400.000000   \n",
       "\n",
       "           ARR_DELAY  ARR_DELAY_NEW      CANCELLED  CARRIER_DELAY  \\\n",
       "count  585737.000000  585737.000000  593842.000000  108682.000000   \n",
       "mean        3.345676      12.308557       0.011370      19.622789   \n",
       "std        45.232506      41.488637       0.106022      59.761106   \n",
       "min      -117.000000       0.000000       0.000000       0.000000   \n",
       "25%       -15.000000       0.000000       0.000000       0.000000   \n",
       "50%        -6.000000       0.000000       0.000000       1.000000   \n",
       "75%         8.000000       8.000000       0.000000      18.000000   \n",
       "max      2108.000000    2108.000000       1.000000    1767.000000   \n",
       "\n",
       "       WEATHER_DELAY      NAS_DELAY  SECURITY_DELAY  LATE_AIRCRAFT_DELAY  \\\n",
       "count  108682.000000  108682.000000   108682.000000        108682.000000   \n",
       "mean        2.993136      13.756777        0.110313            23.981699   \n",
       "std        30.963814      29.392049        2.653272            47.509043   \n",
       "min         0.000000       0.000000        0.000000             0.000000   \n",
       "25%         0.000000       0.000000        0.000000             0.000000   \n",
       "50%         0.000000       3.000000        0.000000             3.000000   \n",
       "75%         0.000000      18.000000        0.000000            29.000000   \n",
       "max      2098.000000    1313.000000      349.000000          1400.000000   \n",
       "\n",
       "       Unnamed: 39  \n",
       "count          0.0  \n",
       "mean           NaN  \n",
       "std            NaN  \n",
       "min            NaN  \n",
       "25%            NaN  \n",
       "50%            NaN  \n",
       "75%            NaN  \n",
       "max            NaN  \n",
       "\n",
       "[8 rows x 28 columns]"
      ]
     },
     "execution_count": 51,
     "metadata": {},
     "output_type": "execute_result"
    }
   ],
   "source": [
    "data_2018.describe()"
   ]
  },
  {
   "cell_type": "code",
   "execution_count": 52,
   "metadata": {},
   "outputs": [
    {
     "data": {
      "text/html": [
       "<div>\n",
       "<style scoped>\n",
       "    .dataframe tbody tr th:only-of-type {\n",
       "        vertical-align: middle;\n",
       "    }\n",
       "\n",
       "    .dataframe tbody tr th {\n",
       "        vertical-align: top;\n",
       "    }\n",
       "\n",
       "    .dataframe thead th {\n",
       "        text-align: right;\n",
       "    }\n",
       "</style>\n",
       "<table border=\"1\" class=\"dataframe\">\n",
       "  <thead>\n",
       "    <tr style=\"text-align: right;\">\n",
       "      <th></th>\n",
       "      <th>YEAR</th>\n",
       "      <th>QUARTER</th>\n",
       "      <th>MONTH</th>\n",
       "      <th>DAY_OF_MONTH</th>\n",
       "      <th>DAY_OF_WEEK</th>\n",
       "      <th>FL_DATE</th>\n",
       "      <th>OP_UNIQUE_CARRIER</th>\n",
       "      <th>OP_CARRIER_AIRLINE_ID</th>\n",
       "      <th>OP_CARRIER</th>\n",
       "      <th>ORIGIN_AIRPORT_ID</th>\n",
       "      <th>...</th>\n",
       "      <th>ARR_DELAY</th>\n",
       "      <th>ARR_DELAY_NEW</th>\n",
       "      <th>CANCELLED</th>\n",
       "      <th>CANCELLATION_CODE</th>\n",
       "      <th>CARRIER_DELAY</th>\n",
       "      <th>WEATHER_DELAY</th>\n",
       "      <th>NAS_DELAY</th>\n",
       "      <th>SECURITY_DELAY</th>\n",
       "      <th>LATE_AIRCRAFT_DELAY</th>\n",
       "      <th>Unnamed: 39</th>\n",
       "    </tr>\n",
       "  </thead>\n",
       "  <tbody>\n",
       "    <tr>\n",
       "      <td>0</td>\n",
       "      <td>2018</td>\n",
       "      <td>4</td>\n",
       "      <td>12</td>\n",
       "      <td>6</td>\n",
       "      <td>4</td>\n",
       "      <td>2018-12-06</td>\n",
       "      <td>DL</td>\n",
       "      <td>19790</td>\n",
       "      <td>DL</td>\n",
       "      <td>14908</td>\n",
       "      <td>...</td>\n",
       "      <td>-17.0</td>\n",
       "      <td>0.0</td>\n",
       "      <td>0.0</td>\n",
       "      <td>NaN</td>\n",
       "      <td>NaN</td>\n",
       "      <td>NaN</td>\n",
       "      <td>NaN</td>\n",
       "      <td>NaN</td>\n",
       "      <td>NaN</td>\n",
       "      <td>NaN</td>\n",
       "    </tr>\n",
       "    <tr>\n",
       "      <td>1</td>\n",
       "      <td>2018</td>\n",
       "      <td>4</td>\n",
       "      <td>12</td>\n",
       "      <td>6</td>\n",
       "      <td>4</td>\n",
       "      <td>2018-12-06</td>\n",
       "      <td>DL</td>\n",
       "      <td>19790</td>\n",
       "      <td>DL</td>\n",
       "      <td>10423</td>\n",
       "      <td>...</td>\n",
       "      <td>-17.0</td>\n",
       "      <td>0.0</td>\n",
       "      <td>0.0</td>\n",
       "      <td>NaN</td>\n",
       "      <td>NaN</td>\n",
       "      <td>NaN</td>\n",
       "      <td>NaN</td>\n",
       "      <td>NaN</td>\n",
       "      <td>NaN</td>\n",
       "      <td>NaN</td>\n",
       "    </tr>\n",
       "    <tr>\n",
       "      <td>2</td>\n",
       "      <td>2018</td>\n",
       "      <td>4</td>\n",
       "      <td>12</td>\n",
       "      <td>6</td>\n",
       "      <td>4</td>\n",
       "      <td>2018-12-06</td>\n",
       "      <td>DL</td>\n",
       "      <td>19790</td>\n",
       "      <td>DL</td>\n",
       "      <td>12478</td>\n",
       "      <td>...</td>\n",
       "      <td>-20.0</td>\n",
       "      <td>0.0</td>\n",
       "      <td>0.0</td>\n",
       "      <td>NaN</td>\n",
       "      <td>NaN</td>\n",
       "      <td>NaN</td>\n",
       "      <td>NaN</td>\n",
       "      <td>NaN</td>\n",
       "      <td>NaN</td>\n",
       "      <td>NaN</td>\n",
       "    </tr>\n",
       "    <tr>\n",
       "      <td>3</td>\n",
       "      <td>2018</td>\n",
       "      <td>4</td>\n",
       "      <td>12</td>\n",
       "      <td>6</td>\n",
       "      <td>4</td>\n",
       "      <td>2018-12-06</td>\n",
       "      <td>DL</td>\n",
       "      <td>19790</td>\n",
       "      <td>DL</td>\n",
       "      <td>10397</td>\n",
       "      <td>...</td>\n",
       "      <td>3.0</td>\n",
       "      <td>3.0</td>\n",
       "      <td>0.0</td>\n",
       "      <td>NaN</td>\n",
       "      <td>NaN</td>\n",
       "      <td>NaN</td>\n",
       "      <td>NaN</td>\n",
       "      <td>NaN</td>\n",
       "      <td>NaN</td>\n",
       "      <td>NaN</td>\n",
       "    </tr>\n",
       "    <tr>\n",
       "      <td>4</td>\n",
       "      <td>2018</td>\n",
       "      <td>4</td>\n",
       "      <td>12</td>\n",
       "      <td>6</td>\n",
       "      <td>4</td>\n",
       "      <td>2018-12-06</td>\n",
       "      <td>DL</td>\n",
       "      <td>19790</td>\n",
       "      <td>DL</td>\n",
       "      <td>10529</td>\n",
       "      <td>...</td>\n",
       "      <td>-25.0</td>\n",
       "      <td>0.0</td>\n",
       "      <td>0.0</td>\n",
       "      <td>NaN</td>\n",
       "      <td>NaN</td>\n",
       "      <td>NaN</td>\n",
       "      <td>NaN</td>\n",
       "      <td>NaN</td>\n",
       "      <td>NaN</td>\n",
       "      <td>NaN</td>\n",
       "    </tr>\n",
       "  </tbody>\n",
       "</table>\n",
       "<p>5 rows × 40 columns</p>\n",
       "</div>"
      ],
      "text/plain": [
       "   YEAR  QUARTER  MONTH  DAY_OF_MONTH  DAY_OF_WEEK     FL_DATE  \\\n",
       "0  2018        4     12             6            4  2018-12-06   \n",
       "1  2018        4     12             6            4  2018-12-06   \n",
       "2  2018        4     12             6            4  2018-12-06   \n",
       "3  2018        4     12             6            4  2018-12-06   \n",
       "4  2018        4     12             6            4  2018-12-06   \n",
       "\n",
       "  OP_UNIQUE_CARRIER  OP_CARRIER_AIRLINE_ID OP_CARRIER  ORIGIN_AIRPORT_ID  ...  \\\n",
       "0                DL                  19790         DL              14908  ...   \n",
       "1                DL                  19790         DL              10423  ...   \n",
       "2                DL                  19790         DL              12478  ...   \n",
       "3                DL                  19790         DL              10397  ...   \n",
       "4                DL                  19790         DL              10529  ...   \n",
       "\n",
       "   ARR_DELAY  ARR_DELAY_NEW CANCELLED CANCELLATION_CODE CARRIER_DELAY  \\\n",
       "0      -17.0            0.0       0.0               NaN           NaN   \n",
       "1      -17.0            0.0       0.0               NaN           NaN   \n",
       "2      -20.0            0.0       0.0               NaN           NaN   \n",
       "3        3.0            3.0       0.0               NaN           NaN   \n",
       "4      -25.0            0.0       0.0               NaN           NaN   \n",
       "\n",
       "   WEATHER_DELAY NAS_DELAY  SECURITY_DELAY  LATE_AIRCRAFT_DELAY  Unnamed: 39  \n",
       "0            NaN       NaN             NaN                  NaN          NaN  \n",
       "1            NaN       NaN             NaN                  NaN          NaN  \n",
       "2            NaN       NaN             NaN                  NaN          NaN  \n",
       "3            NaN       NaN             NaN                  NaN          NaN  \n",
       "4            NaN       NaN             NaN                  NaN          NaN  \n",
       "\n",
       "[5 rows x 40 columns]"
      ]
     },
     "execution_count": 52,
     "metadata": {},
     "output_type": "execute_result"
    }
   ],
   "source": [
    "data_2018.head()"
   ]
  },
  {
   "cell_type": "code",
   "execution_count": 53,
   "metadata": {},
   "outputs": [],
   "source": [
    "trip_with_delay_2018 = data_2018.groupby([\"ORIGIN_CITY_NAME\",\"DEST_CITY_NAME\"])[\"ARR_DELAY\"].mean()\\\n",
    ".sort_values(ascending=False).head(10)"
   ]
  },
  {
   "cell_type": "code",
   "execution_count": 54,
   "metadata": {},
   "outputs": [
    {
     "data": {
      "text/plain": [
       "ORIGIN_CITY_NAME               DEST_CITY_NAME               \n",
       "Sun Valley/Hailey/Ketchum, ID  Chicago, IL                      152.000000\n",
       "Key West, FL                   Dallas/Fort Worth, TX            138.250000\n",
       "Chicago, IL                    Sun Valley/Hailey/Ketchum, ID    133.000000\n",
       "Eagle, CO                      Houston, TX                      119.461538\n",
       "                               Newark, NJ                       114.666667\n",
       "Greer, SC                      Las Vegas, NV                    114.555556\n",
       "Denver, CO                     Rapid City, SD                   109.000000\n",
       "Portsmouth, NH                 Punta Gorda, FL                  105.090909\n",
       "Greensboro/High Point, NC      Fort Lauderdale, FL              103.555556\n",
       "Montrose/Delta, CO             Houston, TX                       99.692308\n",
       "Name: ARR_DELAY, dtype: float64"
      ]
     },
     "execution_count": 54,
     "metadata": {},
     "output_type": "execute_result"
    }
   ],
   "source": [
    "trip_with_delay_2018"
   ]
  },
  {
   "cell_type": "code",
   "execution_count": 55,
   "metadata": {},
   "outputs": [
    {
     "data": {
      "text/plain": [
       "<matplotlib.axes._subplots.AxesSubplot at 0x11b29ff90>"
      ]
     },
     "execution_count": 55,
     "metadata": {},
     "output_type": "execute_result"
    },
    {
     "data": {
      "image/png": "[encoded data removed]",
      "text/plain": [
       "<Figure size 432x288 with 1 Axes>"
      ]
     },
     "metadata": {
      "needs_background": "light"
     },
     "output_type": "display_data"
    }
   ],
   "source": [
    "trip_with_delay_2018.plot(kind='bar', x='ORIGIN_CITY_NAME', y='ARR_DELAY')"
   ]
  },
  {
   "cell_type": "code",
   "execution_count": 56,
   "metadata": {},
   "outputs": [],
   "source": [
    "airline_with_most_cancellations_2018 = data_2018.groupby(\"OP_UNIQUE_CARRIER\")[\"CANCELLATION_CODE\"].apply(lambda x: x.notnull().sum())\\\n",
    ".sort_values(ascending=False).head(10)"
   ]
  },
  {
   "cell_type": "code",
   "execution_count": 57,
   "metadata": {},
   "outputs": [
    {
     "data": {
      "text/plain": [
       "OP_UNIQUE_CARRIER\n",
       "AA    1386\n",
       "OH    1019\n",
       "WN     931\n",
       "OO     848\n",
       "EV     630\n",
       "MQ     572\n",
       "YV     432\n",
       "YX     243\n",
       "AS     203\n",
       "9E     116\n",
       "Name: CANCELLATION_CODE, dtype: int64"
      ]
     },
     "execution_count": 57,
     "metadata": {},
     "output_type": "execute_result"
    }
   ],
   "source": [
    "airline_with_most_cancellations_2018"
   ]
  },
  {
   "cell_type": "code",
   "execution_count": 58,
   "metadata": {},
   "outputs": [
    {
     "data": {
      "text/plain": [
       "<matplotlib.axes._subplots.AxesSubplot at 0x122040490>"
      ]
     },
     "execution_count": 58,
     "metadata": {},
     "output_type": "execute_result"
    },
    {
     "data": {
      "image/png": "[encoded data removed]",
      "text/plain": [
       "<Figure size 432x288 with 1 Axes>"
      ]
     },
     "metadata": {
      "needs_background": "light"
     },
     "output_type": "display_data"
    }
   ],
   "source": [
    "airline_with_most_cancellations_2018.plot(kind='bar', x='OP_UNIQUE_CARRIER')"
   ]
  },
  {
   "cell_type": "code",
   "execution_count": 59,
   "metadata": {},
   "outputs": [],
   "source": [
    "weather_2018_delays_count = data_2018[data_2018['WEATHER_DELAY'] > 0.0][\"WEATHER_DELAY\"].notnull().sum()"
   ]
  },
  {
   "cell_type": "code",
   "execution_count": 60,
   "metadata": {},
   "outputs": [
    {
     "data": {
      "text/plain": [
       "5582"
      ]
     },
     "execution_count": 60,
     "metadata": {},
     "output_type": "execute_result"
    }
   ],
   "source": [
    "weather_2018_delays_count"
   ]
  },
  {
   "cell_type": "code",
   "execution_count": 61,
   "metadata": {},
   "outputs": [],
   "source": [
    "security_2018_delays_count = data_2018[data_2018['SECURITY_DELAY'] > 0.0]['SECURITY_DELAY'].notnull().sum()"
   ]
  },
  {
   "cell_type": "code",
   "execution_count": 62,
   "metadata": {},
   "outputs": [
    {
     "data": {
      "text/plain": [
       "504"
      ]
     },
     "execution_count": 62,
     "metadata": {},
     "output_type": "execute_result"
    }
   ],
   "source": [
    "security_2018_delays_count"
   ]
  },
  {
   "cell_type": "code",
   "execution_count": 63,
   "metadata": {},
   "outputs": [],
   "source": [
    "late_aircraft_2018_delays_count = data_2018[data_2018['LATE_AIRCRAFT_DELAY'] > 0.0]['LATE_AIRCRAFT_DELAY'].notnull().sum()"
   ]
  },
  {
   "cell_type": "code",
   "execution_count": 64,
   "metadata": {},
   "outputs": [
    {
     "data": {
      "text/plain": [
       "56112"
      ]
     },
     "execution_count": 64,
     "metadata": {},
     "output_type": "execute_result"
    }
   ],
   "source": [
    "late_aircraft_2018_delays_count"
   ]
  },
  {
   "cell_type": "code",
   "execution_count": 65,
   "metadata": {},
   "outputs": [],
   "source": [
    "carrier_2018_delays_count = data_2018[data_2018['CARRIER_DELAY'] > 0.0]['CARRIER_DELAY'].notnull().sum()"
   ]
  },
  {
   "cell_type": "code",
   "execution_count": 66,
   "metadata": {},
   "outputs": [
    {
     "data": {
      "text/plain": [
       "55957"
      ]
     },
     "execution_count": 66,
     "metadata": {},
     "output_type": "execute_result"
    }
   ],
   "source": [
    "carrier_2018_delays_count"
   ]
  },
  {
   "cell_type": "code",
   "execution_count": 67,
   "metadata": {},
   "outputs": [],
   "source": [
    "nas_2018_delays_count = data_2018[data_2018['NAS_DELAY'] > 0.0]['NAS_DELAY'].notnull().sum()"
   ]
  },
  {
   "cell_type": "code",
   "execution_count": 68,
   "metadata": {},
   "outputs": [
    {
     "data": {
      "text/plain": [
       "59514"
      ]
     },
     "execution_count": 68,
     "metadata": {},
     "output_type": "execute_result"
    }
   ],
   "source": [
    "nas_2018_delays_count"
   ]
  },
  {
   "cell_type": "code",
   "execution_count": 69,
   "metadata": {},
   "outputs": [],
   "source": [
    "delay_causes_data_2018 = {\n",
    "    \"Delays Causes\":  [\"SECURITY_DELAY\",\"WEATHER_DELAY\",\"LATE_AIRCRAFT_DELAY\",\"CARRIER_DELAY\",\"NAS_DELAY\"],\n",
    "    \"Values\": [security_2018_delays_count,weather_2018_delays_count,late_aircraft_2018_delays_count,\n",
    "              carrier_2018_delays_count,nas_2018_delays_count]\n",
    "   \n",
    "}"
   ]
  },
  {
   "cell_type": "code",
   "execution_count": 70,
   "metadata": {},
   "outputs": [],
   "source": [
    "df_delays_causes_2018 = pd.DataFrame(delay_causes_data_2018,\n",
    "                                index=[\"SECURITY_DELAY\",\"WEATHER_DELAY\",\"LATE_AIRCRAFT_DELAY\",\"CARRIER_DELAY\",\"NAS_DELAY\"])"
   ]
  },
  {
   "cell_type": "code",
   "execution_count": 71,
   "metadata": {},
   "outputs": [
    {
     "data": {
      "text/html": [
       "<div>\n",
       "<style scoped>\n",
       "    .dataframe tbody tr th:only-of-type {\n",
       "        vertical-align: middle;\n",
       "    }\n",
       "\n",
       "    .dataframe tbody tr th {\n",
       "        vertical-align: top;\n",
       "    }\n",
       "\n",
       "    .dataframe thead th {\n",
       "        text-align: right;\n",
       "    }\n",
       "</style>\n",
       "<table border=\"1\" class=\"dataframe\">\n",
       "  <thead>\n",
       "    <tr style=\"text-align: right;\">\n",
       "      <th></th>\n",
       "      <th>Delays Causes</th>\n",
       "      <th>Values</th>\n",
       "    </tr>\n",
       "  </thead>\n",
       "  <tbody>\n",
       "    <tr>\n",
       "      <td>SECURITY_DELAY</td>\n",
       "      <td>SECURITY_DELAY</td>\n",
       "      <td>504</td>\n",
       "    </tr>\n",
       "    <tr>\n",
       "      <td>WEATHER_DELAY</td>\n",
       "      <td>WEATHER_DELAY</td>\n",
       "      <td>5582</td>\n",
       "    </tr>\n",
       "    <tr>\n",
       "      <td>LATE_AIRCRAFT_DELAY</td>\n",
       "      <td>LATE_AIRCRAFT_DELAY</td>\n",
       "      <td>56112</td>\n",
       "    </tr>\n",
       "    <tr>\n",
       "      <td>CARRIER_DELAY</td>\n",
       "      <td>CARRIER_DELAY</td>\n",
       "      <td>55957</td>\n",
       "    </tr>\n",
       "    <tr>\n",
       "      <td>NAS_DELAY</td>\n",
       "      <td>NAS_DELAY</td>\n",
       "      <td>59514</td>\n",
       "    </tr>\n",
       "  </tbody>\n",
       "</table>\n",
       "</div>"
      ],
      "text/plain": [
       "                           Delays Causes  Values\n",
       "SECURITY_DELAY            SECURITY_DELAY     504\n",
       "WEATHER_DELAY              WEATHER_DELAY    5582\n",
       "LATE_AIRCRAFT_DELAY  LATE_AIRCRAFT_DELAY   56112\n",
       "CARRIER_DELAY              CARRIER_DELAY   55957\n",
       "NAS_DELAY                      NAS_DELAY   59514"
      ]
     },
     "execution_count": 71,
     "metadata": {},
     "output_type": "execute_result"
    }
   ],
   "source": [
    "df_delays_causes_2018"
   ]
  },
  {
   "cell_type": "code",
   "execution_count": 72,
   "metadata": {},
   "outputs": [
    {
     "data": {
      "text/plain": [
       "<matplotlib.axes._subplots.AxesSubplot at 0x11eaf19d0>"
      ]
     },
     "execution_count": 72,
     "metadata": {},
     "output_type": "execute_result"
    },
    {
     "data": {
      "image/png": "[encoded data removed]",
      "text/plain": [
       "<Figure size 432x288 with 1 Axes>"
      ]
     },
     "metadata": {
      "needs_background": "light"
     },
     "output_type": "display_data"
    }
   ],
   "source": [
    "df_delays_causes_2018.plot(kind='bar',x=\"Delays Causes\", y=\"Values\")"
   ]
  },
  {
   "cell_type": "code",
   "execution_count": 1,
   "metadata": {},
   "outputs": [
    {
     "ename": "NameError",
     "evalue": "name 'df_delays_causes_2018' is not defined",
     "output_type": "error",
     "traceback": [
      "\u001b[0;31m---------------------------------------------------------------------------\u001b[0m",
      "\u001b[0;31mNameError\u001b[0m                                 Traceback (most recent call last)",
      "\u001b[0;32m<ipython-input-1-047114aa6b7c>\u001b[0m in \u001b[0;36m<module>\u001b[0;34m\u001b[0m\n\u001b[0;32m----> 1\u001b[0;31m \u001b[0mdf_delays_causes_2018\u001b[0m\u001b[0;34m.\u001b[0m\u001b[0mplot\u001b[0m\u001b[0;34m(\u001b[0m\u001b[0mkind\u001b[0m\u001b[0;34m=\u001b[0m\u001b[0;34m'pie'\u001b[0m\u001b[0;34m,\u001b[0m\u001b[0mx\u001b[0m\u001b[0;34m=\u001b[0m\u001b[0;34m\"Delays Causes\"\u001b[0m\u001b[0;34m,\u001b[0m \u001b[0my\u001b[0m\u001b[0;34m=\u001b[0m\u001b[0;34m\"Values\"\u001b[0m\u001b[0;34m)\u001b[0m\u001b[0;34m\u001b[0m\u001b[0;34m\u001b[0m\u001b[0m\n\u001b[0m",
      "\u001b[0;31mNameError\u001b[0m: name 'df_delays_causes_2018' is not defined"
     ]
    }
   ],
   "source": [
    "df_delays_causes_2018.plot(kind='pie',x=\"Delays Causes\", y=\"Values\")"
   ]
  },
  {
   "cell_type": "markdown",
   "metadata": {},
   "source": [
    "------------------------------------------\n",
    "# 2019 data analysis\n",
    "------------------------------------------"
   ]
  },
  {
   "cell_type": "code",
   "execution_count": 74,
   "metadata": {},
   "outputs": [],
   "source": [
    "data_2019 = pd.read_csv('2019.csv')"
   ]
  },
  {
   "cell_type": "code",
   "execution_count": 75,
   "metadata": {},
   "outputs": [
    {
     "name": "stdout",
     "output_type": "stream",
     "text": [
      "<class 'pandas.core.frame.DataFrame'>\n",
      "RangeIndex: 636014 entries, 0 to 636013\n",
      "Data columns (total 40 columns):\n",
      "YEAR                     636014 non-null int64\n",
      "QUARTER                  636014 non-null int64\n",
      "MONTH                    636014 non-null int64\n",
      "DAY_OF_MONTH             636014 non-null int64\n",
      "DAY_OF_WEEK              636014 non-null int64\n",
      "FL_DATE                  636014 non-null object\n",
      "OP_UNIQUE_CARRIER        636014 non-null object\n",
      "OP_CARRIER_AIRLINE_ID    636014 non-null int64\n",
      "OP_CARRIER               636014 non-null object\n",
      "ORIGIN_AIRPORT_ID        636014 non-null int64\n",
      "ORIGIN_AIRPORT_SEQ_ID    636014 non-null int64\n",
      "ORIGIN_CITY_MARKET_ID    636014 non-null int64\n",
      "ORIGIN                   636014 non-null object\n",
      "ORIGIN_CITY_NAME         636014 non-null object\n",
      "ORIGIN_STATE_ABR         636014 non-null object\n",
      "ORIGIN_STATE_FIPS        636014 non-null int64\n",
      "ORIGIN_STATE_NM          636014 non-null object\n",
      "ORIGIN_WAC               636014 non-null int64\n",
      "DEST_AIRPORT_ID          636014 non-null int64\n",
      "DEST_AIRPORT_SEQ_ID      636014 non-null int64\n",
      "DEST_CITY_MARKET_ID      636014 non-null int64\n",
      "DEST                     636014 non-null object\n",
      "DEST_CITY_NAME           636014 non-null object\n",
      "DEST_STATE_ABR           636014 non-null object\n",
      "DEST_STATE_FIPS          636014 non-null int64\n",
      "DEST_STATE_NM            636014 non-null object\n",
      "DEST_WAC                 636014 non-null int64\n",
      "DEP_DELAY                631100 non-null float64\n",
      "DEP_DELAY_NEW            631100 non-null float64\n",
      "ARR_TIME                 630680 non-null float64\n",
      "ARR_DELAY                629637 non-null float64\n",
      "ARR_DELAY_NEW            629637 non-null float64\n",
      "CANCELLED                636014 non-null float64\n",
      "CANCELLATION_CODE        5172 non-null object\n",
      "CARRIER_DELAY            105046 non-null float64\n",
      "WEATHER_DELAY            105046 non-null float64\n",
      "NAS_DELAY                105046 non-null float64\n",
      "SECURITY_DELAY           105046 non-null float64\n",
      "LATE_AIRCRAFT_DELAY      105046 non-null float64\n",
      "Unnamed: 39              0 non-null float64\n",
      "dtypes: float64(12), int64(16), object(12)\n",
      "memory usage: 194.1+ MB\n"
     ]
    }
   ],
   "source": [
    "data_2019.info()"
   ]
  },
  {
   "cell_type": "code",
   "execution_count": 76,
   "metadata": {},
   "outputs": [
    {
     "data": {
      "text/html": [
       "<div>\n",
       "<style scoped>\n",
       "    .dataframe tbody tr th:only-of-type {\n",
       "        vertical-align: middle;\n",
       "    }\n",
       "\n",
       "    .dataframe tbody tr th {\n",
       "        vertical-align: top;\n",
       "    }\n",
       "\n",
       "    .dataframe thead th {\n",
       "        text-align: right;\n",
       "    }\n",
       "</style>\n",
       "<table border=\"1\" class=\"dataframe\">\n",
       "  <thead>\n",
       "    <tr style=\"text-align: right;\">\n",
       "      <th></th>\n",
       "      <th>YEAR</th>\n",
       "      <th>QUARTER</th>\n",
       "      <th>MONTH</th>\n",
       "      <th>DAY_OF_MONTH</th>\n",
       "      <th>DAY_OF_WEEK</th>\n",
       "      <th>OP_CARRIER_AIRLINE_ID</th>\n",
       "      <th>ORIGIN_AIRPORT_ID</th>\n",
       "      <th>ORIGIN_AIRPORT_SEQ_ID</th>\n",
       "      <th>ORIGIN_CITY_MARKET_ID</th>\n",
       "      <th>ORIGIN_STATE_FIPS</th>\n",
       "      <th>...</th>\n",
       "      <th>ARR_TIME</th>\n",
       "      <th>ARR_DELAY</th>\n",
       "      <th>ARR_DELAY_NEW</th>\n",
       "      <th>CANCELLED</th>\n",
       "      <th>CARRIER_DELAY</th>\n",
       "      <th>WEATHER_DELAY</th>\n",
       "      <th>NAS_DELAY</th>\n",
       "      <th>SECURITY_DELAY</th>\n",
       "      <th>LATE_AIRCRAFT_DELAY</th>\n",
       "      <th>Unnamed: 39</th>\n",
       "    </tr>\n",
       "  </thead>\n",
       "  <tbody>\n",
       "    <tr>\n",
       "      <td>count</td>\n",
       "      <td>636014.0</td>\n",
       "      <td>636014.0</td>\n",
       "      <td>636014.0</td>\n",
       "      <td>636014.000000</td>\n",
       "      <td>636014.000000</td>\n",
       "      <td>636014.000000</td>\n",
       "      <td>636014.000000</td>\n",
       "      <td>6.360140e+05</td>\n",
       "      <td>636014.000000</td>\n",
       "      <td>636014.000000</td>\n",
       "      <td>...</td>\n",
       "      <td>630680.000000</td>\n",
       "      <td>629637.000000</td>\n",
       "      <td>629637.000000</td>\n",
       "      <td>636014.000000</td>\n",
       "      <td>105046.000000</td>\n",
       "      <td>105046.000000</td>\n",
       "      <td>105046.000000</td>\n",
       "      <td>105046.000000</td>\n",
       "      <td>105046.000000</td>\n",
       "      <td>0.0</td>\n",
       "    </tr>\n",
       "    <tr>\n",
       "      <td>mean</td>\n",
       "      <td>2019.0</td>\n",
       "      <td>4.0</td>\n",
       "      <td>10.0</td>\n",
       "      <td>15.870602</td>\n",
       "      <td>3.854994</td>\n",
       "      <td>19985.866814</td>\n",
       "      <td>12637.407793</td>\n",
       "      <td>1.263745e+06</td>\n",
       "      <td>31733.417917</td>\n",
       "      <td>27.169366</td>\n",
       "      <td>...</td>\n",
       "      <td>1467.272915</td>\n",
       "      <td>2.391511</td>\n",
       "      <td>11.365422</td>\n",
       "      <td>0.008132</td>\n",
       "      <td>19.810083</td>\n",
       "      <td>2.402843</td>\n",
       "      <td>15.758706</td>\n",
       "      <td>0.071235</td>\n",
       "      <td>24.251138</td>\n",
       "      <td>NaN</td>\n",
       "    </tr>\n",
       "    <tr>\n",
       "      <td>std</td>\n",
       "      <td>0.0</td>\n",
       "      <td>0.0</td>\n",
       "      <td>0.0</td>\n",
       "      <td>8.884372</td>\n",
       "      <td>1.936610</td>\n",
       "      <td>374.079403</td>\n",
       "      <td>1523.093883</td>\n",
       "      <td>1.523092e+05</td>\n",
       "      <td>1302.167273</td>\n",
       "      <td>16.364479</td>\n",
       "      <td>...</td>\n",
       "      <td>531.197259</td>\n",
       "      <td>43.856201</td>\n",
       "      <td>40.411050</td>\n",
       "      <td>0.089810</td>\n",
       "      <td>64.379166</td>\n",
       "      <td>25.466946</td>\n",
       "      <td>32.730638</td>\n",
       "      <td>2.017558</td>\n",
       "      <td>47.851918</td>\n",
       "      <td>NaN</td>\n",
       "    </tr>\n",
       "    <tr>\n",
       "      <td>min</td>\n",
       "      <td>2019.0</td>\n",
       "      <td>4.0</td>\n",
       "      <td>10.0</td>\n",
       "      <td>1.000000</td>\n",
       "      <td>1.000000</td>\n",
       "      <td>19393.000000</td>\n",
       "      <td>10135.000000</td>\n",
       "      <td>1.013505e+06</td>\n",
       "      <td>30070.000000</td>\n",
       "      <td>1.000000</td>\n",
       "      <td>...</td>\n",
       "      <td>1.000000</td>\n",
       "      <td>-89.000000</td>\n",
       "      <td>0.000000</td>\n",
       "      <td>0.000000</td>\n",
       "      <td>0.000000</td>\n",
       "      <td>0.000000</td>\n",
       "      <td>0.000000</td>\n",
       "      <td>0.000000</td>\n",
       "      <td>0.000000</td>\n",
       "      <td>NaN</td>\n",
       "    </tr>\n",
       "    <tr>\n",
       "      <td>25%</td>\n",
       "      <td>2019.0</td>\n",
       "      <td>4.0</td>\n",
       "      <td>10.0</td>\n",
       "      <td>8.000000</td>\n",
       "      <td>2.000000</td>\n",
       "      <td>19790.000000</td>\n",
       "      <td>11292.000000</td>\n",
       "      <td>1.129202e+06</td>\n",
       "      <td>30693.000000</td>\n",
       "      <td>12.000000</td>\n",
       "      <td>...</td>\n",
       "      <td>1051.000000</td>\n",
       "      <td>-15.000000</td>\n",
       "      <td>0.000000</td>\n",
       "      <td>0.000000</td>\n",
       "      <td>0.000000</td>\n",
       "      <td>0.000000</td>\n",
       "      <td>0.000000</td>\n",
       "      <td>0.000000</td>\n",
       "      <td>0.000000</td>\n",
       "      <td>NaN</td>\n",
       "    </tr>\n",
       "    <tr>\n",
       "      <td>50%</td>\n",
       "      <td>2019.0</td>\n",
       "      <td>4.0</td>\n",
       "      <td>10.0</td>\n",
       "      <td>16.000000</td>\n",
       "      <td>4.000000</td>\n",
       "      <td>19977.000000</td>\n",
       "      <td>12889.000000</td>\n",
       "      <td>1.288903e+06</td>\n",
       "      <td>31453.000000</td>\n",
       "      <td>26.000000</td>\n",
       "      <td>...</td>\n",
       "      <td>1505.000000</td>\n",
       "      <td>-7.000000</td>\n",
       "      <td>0.000000</td>\n",
       "      <td>0.000000</td>\n",
       "      <td>0.000000</td>\n",
       "      <td>0.000000</td>\n",
       "      <td>3.000000</td>\n",
       "      <td>0.000000</td>\n",
       "      <td>1.000000</td>\n",
       "      <td>NaN</td>\n",
       "    </tr>\n",
       "    <tr>\n",
       "      <td>75%</td>\n",
       "      <td>2019.0</td>\n",
       "      <td>4.0</td>\n",
       "      <td>10.0</td>\n",
       "      <td>24.000000</td>\n",
       "      <td>5.000000</td>\n",
       "      <td>20368.000000</td>\n",
       "      <td>13930.000000</td>\n",
       "      <td>1.393007e+06</td>\n",
       "      <td>32467.000000</td>\n",
       "      <td>42.000000</td>\n",
       "      <td>...</td>\n",
       "      <td>1913.000000</td>\n",
       "      <td>5.000000</td>\n",
       "      <td>5.000000</td>\n",
       "      <td>0.000000</td>\n",
       "      <td>16.000000</td>\n",
       "      <td>0.000000</td>\n",
       "      <td>20.000000</td>\n",
       "      <td>0.000000</td>\n",
       "      <td>30.000000</td>\n",
       "      <td>NaN</td>\n",
       "    </tr>\n",
       "    <tr>\n",
       "      <td>max</td>\n",
       "      <td>2019.0</td>\n",
       "      <td>4.0</td>\n",
       "      <td>10.0</td>\n",
       "      <td>31.000000</td>\n",
       "      <td>7.000000</td>\n",
       "      <td>20452.000000</td>\n",
       "      <td>16869.000000</td>\n",
       "      <td>1.686901e+06</td>\n",
       "      <td>35991.000000</td>\n",
       "      <td>78.000000</td>\n",
       "      <td>...</td>\n",
       "      <td>2400.000000</td>\n",
       "      <td>2034.000000</td>\n",
       "      <td>2034.000000</td>\n",
       "      <td>1.000000</td>\n",
       "      <td>1933.000000</td>\n",
       "      <td>1552.000000</td>\n",
       "      <td>1371.000000</td>\n",
       "      <td>198.000000</td>\n",
       "      <td>2010.000000</td>\n",
       "      <td>NaN</td>\n",
       "    </tr>\n",
       "  </tbody>\n",
       "</table>\n",
       "<p>8 rows × 28 columns</p>\n",
       "</div>"
      ],
      "text/plain": [
       "           YEAR   QUARTER     MONTH   DAY_OF_MONTH    DAY_OF_WEEK  \\\n",
       "count  636014.0  636014.0  636014.0  636014.000000  636014.000000   \n",
       "mean     2019.0       4.0      10.0      15.870602       3.854994   \n",
       "std         0.0       0.0       0.0       8.884372       1.936610   \n",
       "min      2019.0       4.0      10.0       1.000000       1.000000   \n",
       "25%      2019.0       4.0      10.0       8.000000       2.000000   \n",
       "50%      2019.0       4.0      10.0      16.000000       4.000000   \n",
       "75%      2019.0       4.0      10.0      24.000000       5.000000   \n",
       "max      2019.0       4.0      10.0      31.000000       7.000000   \n",
       "\n",
       "       OP_CARRIER_AIRLINE_ID  ORIGIN_AIRPORT_ID  ORIGIN_AIRPORT_SEQ_ID  \\\n",
       "count          636014.000000      636014.000000           6.360140e+05   \n",
       "mean            19985.866814       12637.407793           1.263745e+06   \n",
       "std               374.079403        1523.093883           1.523092e+05   \n",
       "min             19393.000000       10135.000000           1.013505e+06   \n",
       "25%             19790.000000       11292.000000           1.129202e+06   \n",
       "50%             19977.000000       12889.000000           1.288903e+06   \n",
       "75%             20368.000000       13930.000000           1.393007e+06   \n",
       "max             20452.000000       16869.000000           1.686901e+06   \n",
       "\n",
       "       ORIGIN_CITY_MARKET_ID  ORIGIN_STATE_FIPS  ...       ARR_TIME  \\\n",
       "count          636014.000000      636014.000000  ...  630680.000000   \n",
       "mean            31733.417917          27.169366  ...    1467.272915   \n",
       "std              1302.167273          16.364479  ...     531.197259   \n",
       "min             30070.000000           1.000000  ...       1.000000   \n",
       "25%             30693.000000          12.000000  ...    1051.000000   \n",
       "50%             31453.000000          26.000000  ...    1505.000000   \n",
       "75%             32467.000000          42.000000  ...    1913.000000   \n",
       "max             35991.000000          78.000000  ...    2400.000000   \n",
       "\n",
       "           ARR_DELAY  ARR_DELAY_NEW      CANCELLED  CARRIER_DELAY  \\\n",
       "count  629637.000000  629637.000000  636014.000000  105046.000000   \n",
       "mean        2.391511      11.365422       0.008132      19.810083   \n",
       "std        43.856201      40.411050       0.089810      64.379166   \n",
       "min       -89.000000       0.000000       0.000000       0.000000   \n",
       "25%       -15.000000       0.000000       0.000000       0.000000   \n",
       "50%        -7.000000       0.000000       0.000000       0.000000   \n",
       "75%         5.000000       5.000000       0.000000      16.000000   \n",
       "max      2034.000000    2034.000000       1.000000    1933.000000   \n",
       "\n",
       "       WEATHER_DELAY      NAS_DELAY  SECURITY_DELAY  LATE_AIRCRAFT_DELAY  \\\n",
       "count  105046.000000  105046.000000   105046.000000        105046.000000   \n",
       "mean        2.402843      15.758706        0.071235            24.251138   \n",
       "std        25.466946      32.730638        2.017558            47.851918   \n",
       "min         0.000000       0.000000        0.000000             0.000000   \n",
       "25%         0.000000       0.000000        0.000000             0.000000   \n",
       "50%         0.000000       3.000000        0.000000             1.000000   \n",
       "75%         0.000000      20.000000        0.000000            30.000000   \n",
       "max      1552.000000    1371.000000      198.000000          2010.000000   \n",
       "\n",
       "       Unnamed: 39  \n",
       "count          0.0  \n",
       "mean           NaN  \n",
       "std            NaN  \n",
       "min            NaN  \n",
       "25%            NaN  \n",
       "50%            NaN  \n",
       "75%            NaN  \n",
       "max            NaN  \n",
       "\n",
       "[8 rows x 28 columns]"
      ]
     },
     "execution_count": 76,
     "metadata": {},
     "output_type": "execute_result"
    }
   ],
   "source": [
    "data_2019.describe()"
   ]
  },
  {
   "cell_type": "code",
   "execution_count": 77,
   "metadata": {},
   "outputs": [
    {
     "data": {
      "text/html": [
       "<div>\n",
       "<style scoped>\n",
       "    .dataframe tbody tr th:only-of-type {\n",
       "        vertical-align: middle;\n",
       "    }\n",
       "\n",
       "    .dataframe tbody tr th {\n",
       "        vertical-align: top;\n",
       "    }\n",
       "\n",
       "    .dataframe thead th {\n",
       "        text-align: right;\n",
       "    }\n",
       "</style>\n",
       "<table border=\"1\" class=\"dataframe\">\n",
       "  <thead>\n",
       "    <tr style=\"text-align: right;\">\n",
       "      <th></th>\n",
       "      <th>YEAR</th>\n",
       "      <th>QUARTER</th>\n",
       "      <th>MONTH</th>\n",
       "      <th>DAY_OF_MONTH</th>\n",
       "      <th>DAY_OF_WEEK</th>\n",
       "      <th>FL_DATE</th>\n",
       "      <th>OP_UNIQUE_CARRIER</th>\n",
       "      <th>OP_CARRIER_AIRLINE_ID</th>\n",
       "      <th>OP_CARRIER</th>\n",
       "      <th>ORIGIN_AIRPORT_ID</th>\n",
       "      <th>...</th>\n",
       "      <th>ARR_DELAY</th>\n",
       "      <th>ARR_DELAY_NEW</th>\n",
       "      <th>CANCELLED</th>\n",
       "      <th>CANCELLATION_CODE</th>\n",
       "      <th>CARRIER_DELAY</th>\n",
       "      <th>WEATHER_DELAY</th>\n",
       "      <th>NAS_DELAY</th>\n",
       "      <th>SECURITY_DELAY</th>\n",
       "      <th>LATE_AIRCRAFT_DELAY</th>\n",
       "      <th>Unnamed: 39</th>\n",
       "    </tr>\n",
       "  </thead>\n",
       "  <tbody>\n",
       "    <tr>\n",
       "      <td>0</td>\n",
       "      <td>2019</td>\n",
       "      <td>4</td>\n",
       "      <td>10</td>\n",
       "      <td>1</td>\n",
       "      <td>2</td>\n",
       "      <td>2019-10-01</td>\n",
       "      <td>AA</td>\n",
       "      <td>19805</td>\n",
       "      <td>AA</td>\n",
       "      <td>11298</td>\n",
       "      <td>...</td>\n",
       "      <td>-25.0</td>\n",
       "      <td>0.0</td>\n",
       "      <td>0.0</td>\n",
       "      <td>NaN</td>\n",
       "      <td>NaN</td>\n",
       "      <td>NaN</td>\n",
       "      <td>NaN</td>\n",
       "      <td>NaN</td>\n",
       "      <td>NaN</td>\n",
       "      <td>NaN</td>\n",
       "    </tr>\n",
       "    <tr>\n",
       "      <td>1</td>\n",
       "      <td>2019</td>\n",
       "      <td>4</td>\n",
       "      <td>10</td>\n",
       "      <td>2</td>\n",
       "      <td>3</td>\n",
       "      <td>2019-10-02</td>\n",
       "      <td>AA</td>\n",
       "      <td>19805</td>\n",
       "      <td>AA</td>\n",
       "      <td>11298</td>\n",
       "      <td>...</td>\n",
       "      <td>37.0</td>\n",
       "      <td>37.0</td>\n",
       "      <td>0.0</td>\n",
       "      <td>NaN</td>\n",
       "      <td>37.0</td>\n",
       "      <td>0.0</td>\n",
       "      <td>0.0</td>\n",
       "      <td>0.0</td>\n",
       "      <td>0.0</td>\n",
       "      <td>NaN</td>\n",
       "    </tr>\n",
       "    <tr>\n",
       "      <td>2</td>\n",
       "      <td>2019</td>\n",
       "      <td>4</td>\n",
       "      <td>10</td>\n",
       "      <td>4</td>\n",
       "      <td>5</td>\n",
       "      <td>2019-10-04</td>\n",
       "      <td>AA</td>\n",
       "      <td>19805</td>\n",
       "      <td>AA</td>\n",
       "      <td>11298</td>\n",
       "      <td>...</td>\n",
       "      <td>-19.0</td>\n",
       "      <td>0.0</td>\n",
       "      <td>0.0</td>\n",
       "      <td>NaN</td>\n",
       "      <td>NaN</td>\n",
       "      <td>NaN</td>\n",
       "      <td>NaN</td>\n",
       "      <td>NaN</td>\n",
       "      <td>NaN</td>\n",
       "      <td>NaN</td>\n",
       "    </tr>\n",
       "    <tr>\n",
       "      <td>3</td>\n",
       "      <td>2019</td>\n",
       "      <td>4</td>\n",
       "      <td>10</td>\n",
       "      <td>5</td>\n",
       "      <td>6</td>\n",
       "      <td>2019-10-05</td>\n",
       "      <td>AA</td>\n",
       "      <td>19805</td>\n",
       "      <td>AA</td>\n",
       "      <td>11298</td>\n",
       "      <td>...</td>\n",
       "      <td>12.0</td>\n",
       "      <td>12.0</td>\n",
       "      <td>0.0</td>\n",
       "      <td>NaN</td>\n",
       "      <td>NaN</td>\n",
       "      <td>NaN</td>\n",
       "      <td>NaN</td>\n",
       "      <td>NaN</td>\n",
       "      <td>NaN</td>\n",
       "      <td>NaN</td>\n",
       "    </tr>\n",
       "    <tr>\n",
       "      <td>4</td>\n",
       "      <td>2019</td>\n",
       "      <td>4</td>\n",
       "      <td>10</td>\n",
       "      <td>6</td>\n",
       "      <td>7</td>\n",
       "      <td>2019-10-06</td>\n",
       "      <td>AA</td>\n",
       "      <td>19805</td>\n",
       "      <td>AA</td>\n",
       "      <td>11298</td>\n",
       "      <td>...</td>\n",
       "      <td>2.0</td>\n",
       "      <td>2.0</td>\n",
       "      <td>0.0</td>\n",
       "      <td>NaN</td>\n",
       "      <td>NaN</td>\n",
       "      <td>NaN</td>\n",
       "      <td>NaN</td>\n",
       "      <td>NaN</td>\n",
       "      <td>NaN</td>\n",
       "      <td>NaN</td>\n",
       "    </tr>\n",
       "  </tbody>\n",
       "</table>\n",
       "<p>5 rows × 40 columns</p>\n",
       "</div>"
      ],
      "text/plain": [
       "   YEAR  QUARTER  MONTH  DAY_OF_MONTH  DAY_OF_WEEK     FL_DATE  \\\n",
       "0  2019        4     10             1            2  2019-10-01   \n",
       "1  2019        4     10             2            3  2019-10-02   \n",
       "2  2019        4     10             4            5  2019-10-04   \n",
       "3  2019        4     10             5            6  2019-10-05   \n",
       "4  2019        4     10             6            7  2019-10-06   \n",
       "\n",
       "  OP_UNIQUE_CARRIER  OP_CARRIER_AIRLINE_ID OP_CARRIER  ORIGIN_AIRPORT_ID  ...  \\\n",
       "0                AA                  19805         AA              11298  ...   \n",
       "1                AA                  19805         AA              11298  ...   \n",
       "2                AA                  19805         AA              11298  ...   \n",
       "3                AA                  19805         AA              11298  ...   \n",
       "4                AA                  19805         AA              11298  ...   \n",
       "\n",
       "   ARR_DELAY  ARR_DELAY_NEW CANCELLED CANCELLATION_CODE CARRIER_DELAY  \\\n",
       "0      -25.0            0.0       0.0               NaN           NaN   \n",
       "1       37.0           37.0       0.0               NaN          37.0   \n",
       "2      -19.0            0.0       0.0               NaN           NaN   \n",
       "3       12.0           12.0       0.0               NaN           NaN   \n",
       "4        2.0            2.0       0.0               NaN           NaN   \n",
       "\n",
       "   WEATHER_DELAY NAS_DELAY  SECURITY_DELAY  LATE_AIRCRAFT_DELAY  Unnamed: 39  \n",
       "0            NaN       NaN             NaN                  NaN          NaN  \n",
       "1            0.0       0.0             0.0                  0.0          NaN  \n",
       "2            NaN       NaN             NaN                  NaN          NaN  \n",
       "3            NaN       NaN             NaN                  NaN          NaN  \n",
       "4            NaN       NaN             NaN                  NaN          NaN  \n",
       "\n",
       "[5 rows x 40 columns]"
      ]
     },
     "execution_count": 77,
     "metadata": {},
     "output_type": "execute_result"
    }
   ],
   "source": [
    "data_2019.head()"
   ]
  },
  {
   "cell_type": "code",
   "execution_count": 78,
   "metadata": {},
   "outputs": [],
   "source": [
    "trip_with_delay_2019 = data_2019.groupby([\"ORIGIN_CITY_NAME\",\"DEST_CITY_NAME\"])[\"ARR_DELAY\"].mean()\\\n",
    ".sort_values(ascending=False).head(10)"
   ]
  },
  {
   "cell_type": "code",
   "execution_count": 79,
   "metadata": {},
   "outputs": [
    {
     "data": {
      "text/plain": [
       "ORIGIN_CITY_NAME           DEST_CITY_NAME \n",
       "Columbus, OH               Valparaiso, FL     196.125000\n",
       "Houston, TX                Aspen, CO          191.750000\n",
       "Valparaiso, FL             Columbus, OH       187.000000\n",
       "Tucson, AZ                 Provo, UT          169.222222\n",
       "Provo, UT                  Tucson, AZ         156.111111\n",
       "Harrisburg, PA             Punta Gorda, FL    131.000000\n",
       "Newburgh/Poughkeepsie, NY  Punta Gorda, FL    128.875000\n",
       "Columbia, MO               Denver, CO         127.333333\n",
       "St. Cloud, MN              Phoenix, AZ        122.250000\n",
       "San Francisco, CA          Santa Rosa, CA     108.730769\n",
       "Name: ARR_DELAY, dtype: float64"
      ]
     },
     "execution_count": 79,
     "metadata": {},
     "output_type": "execute_result"
    }
   ],
   "source": [
    "trip_with_delay_2019"
   ]
  },
  {
   "cell_type": "code",
   "execution_count": 80,
   "metadata": {},
   "outputs": [
    {
     "data": {
      "text/plain": [
       "<matplotlib.axes._subplots.AxesSubplot at 0x11a2d9910>"
      ]
     },
     "execution_count": 80,
     "metadata": {},
     "output_type": "execute_result"
    },
    {
     "data": {
      "image/png": "[encoded data removed]",
      "text/plain": [
       "<Figure size 432x288 with 1 Axes>"
      ]
     },
     "metadata": {
      "needs_background": "light"
     },
     "output_type": "display_data"
    }
   ],
   "source": [
    "trip_with_delay_2019.plot(kind='bar', x='ORIGIN_CITY_NAME', y='ARR_DELAY')"
   ]
  },
  {
   "cell_type": "code",
   "execution_count": 81,
   "metadata": {},
   "outputs": [],
   "source": [
    "airline_with_most_cancellations_2019 = data_2019.groupby(\"OP_UNIQUE_CARRIER\")[\"CANCELLATION_CODE\"].apply(lambda x: x.notnull().sum())\\\n",
    ".sort_values(ascending=False).head(10)"
   ]
  },
  {
   "cell_type": "code",
   "execution_count": 82,
   "metadata": {},
   "outputs": [
    {
     "data": {
      "text/plain": [
       "OP_UNIQUE_CARRIER\n",
       "WN    1414\n",
       "AA     867\n",
       "OO     725\n",
       "MQ     420\n",
       "YV     393\n",
       "OH     316\n",
       "F9     188\n",
       "UA     151\n",
       "YX     126\n",
       "AS     121\n",
       "Name: CANCELLATION_CODE, dtype: int64"
      ]
     },
     "execution_count": 82,
     "metadata": {},
     "output_type": "execute_result"
    }
   ],
   "source": [
    "airline_with_most_cancellations_2019"
   ]
  },
  {
   "cell_type": "code",
   "execution_count": 83,
   "metadata": {},
   "outputs": [
    {
     "data": {
      "text/plain": [
       "<matplotlib.axes._subplots.AxesSubplot at 0x127fb4f90>"
      ]
     },
     "execution_count": 83,
     "metadata": {},
     "output_type": "execute_result"
    },
    {
     "data": {
      "image/png": "[encoded data removed]",
      "text/plain": [
       "<Figure size 432x288 with 1 Axes>"
      ]
     },
     "metadata": {
      "needs_background": "light"
     },
     "output_type": "display_data"
    }
   ],
   "source": [
    "airline_with_most_cancellations_2019.plot(kind='bar', x='OP_UNIQUE_CARRIER')"
   ]
  },
  {
   "cell_type": "code",
   "execution_count": 84,
   "metadata": {},
   "outputs": [],
   "source": [
    "weather_2019_delays_count = data_2019[data_2019['WEATHER_DELAY'] > 0.0][\"WEATHER_DELAY\"].notnull().sum()"
   ]
  },
  {
   "cell_type": "code",
   "execution_count": 85,
   "metadata": {},
   "outputs": [
    {
     "data": {
      "text/plain": [
       "4292"
      ]
     },
     "execution_count": 85,
     "metadata": {},
     "output_type": "execute_result"
    }
   ],
   "source": [
    "weather_2019_delays_count"
   ]
  },
  {
   "cell_type": "code",
   "execution_count": 86,
   "metadata": {},
   "outputs": [],
   "source": [
    "security_2019_delays_count = data_2019[data_2019['SECURITY_DELAY'] > 0.0]['SECURITY_DELAY'].notnull().sum()"
   ]
  },
  {
   "cell_type": "code",
   "execution_count": 87,
   "metadata": {},
   "outputs": [
    {
     "data": {
      "text/plain": [
       "311"
      ]
     },
     "execution_count": 87,
     "metadata": {},
     "output_type": "execute_result"
    }
   ],
   "source": [
    "security_2019_delays_count"
   ]
  },
  {
   "cell_type": "code",
   "execution_count": 88,
   "metadata": {},
   "outputs": [],
   "source": [
    "late_aircraft_2019_delays_count = data_2019[data_2019['LATE_AIRCRAFT_DELAY'] > 0.0]['LATE_AIRCRAFT_DELAY'].notnull().sum()"
   ]
  },
  {
   "cell_type": "code",
   "execution_count": 89,
   "metadata": {},
   "outputs": [
    {
     "data": {
      "text/plain": [
       "53000"
      ]
     },
     "execution_count": 89,
     "metadata": {},
     "output_type": "execute_result"
    }
   ],
   "source": [
    "late_aircraft_2019_delays_count"
   ]
  },
  {
   "cell_type": "code",
   "execution_count": 90,
   "metadata": {},
   "outputs": [],
   "source": [
    "carrier_2019_delays_count = data_2019[data_2019['CARRIER_DELAY'] > 0.0]['CARRIER_DELAY'].notnull().sum()"
   ]
  },
  {
   "cell_type": "code",
   "execution_count": 91,
   "metadata": {},
   "outputs": [
    {
     "data": {
      "text/plain": [
       "49049"
      ]
     },
     "execution_count": 91,
     "metadata": {},
     "output_type": "execute_result"
    }
   ],
   "source": [
    "carrier_2019_delays_count"
   ]
  },
  {
   "cell_type": "code",
   "execution_count": 92,
   "metadata": {},
   "outputs": [],
   "source": [
    "nas_2019_delays_count = data_2019[data_2019['NAS_DELAY'] > 0.0]['NAS_DELAY'].notnull().sum()"
   ]
  },
  {
   "cell_type": "code",
   "execution_count": 93,
   "metadata": {},
   "outputs": [
    {
     "data": {
      "text/plain": [
       "58108"
      ]
     },
     "execution_count": 93,
     "metadata": {},
     "output_type": "execute_result"
    }
   ],
   "source": [
    "nas_2019_delays_count"
   ]
  },
  {
   "cell_type": "code",
   "execution_count": 94,
   "metadata": {},
   "outputs": [],
   "source": [
    "delay_causes_data_2019 = {\n",
    "    \"Delays Causes\":  [\"SECURITY_DELAY\",\"WEATHER_DELAY\",\"LATE_AIRCRAFT_DELAY\",\"CARRIER_DELAY\",\"NAS_DELAY\"],\n",
    "    \"Values\": [security_2019_delays_count,weather_2019_delays_count,late_aircraft_2019_delays_count,\n",
    "              carrier_2019_delays_count,nas_2019_delays_count]\n",
    "   \n",
    "}"
   ]
  },
  {
   "cell_type": "code",
   "execution_count": 95,
   "metadata": {},
   "outputs": [],
   "source": [
    "df_delays_causes_2019 = pd.DataFrame(delay_causes_data_2019,\n",
    "                                index=[\"SECURITY_DELAY\",\"WEATHER_DELAY\",\"LATE_AIRCRAFT_DELAY\",\"CARRIER_DELAY\",\"NAS_DELAY\"])"
   ]
  },
  {
   "cell_type": "code",
   "execution_count": 96,
   "metadata": {},
   "outputs": [
    {
     "data": {
      "text/html": [
       "<div>\n",
       "<style scoped>\n",
       "    .dataframe tbody tr th:only-of-type {\n",
       "        vertical-align: middle;\n",
       "    }\n",
       "\n",
       "    .dataframe tbody tr th {\n",
       "        vertical-align: top;\n",
       "    }\n",
       "\n",
       "    .dataframe thead th {\n",
       "        text-align: right;\n",
       "    }\n",
       "</style>\n",
       "<table border=\"1\" class=\"dataframe\">\n",
       "  <thead>\n",
       "    <tr style=\"text-align: right;\">\n",
       "      <th></th>\n",
       "      <th>Delays Causes</th>\n",
       "      <th>Values</th>\n",
       "    </tr>\n",
       "  </thead>\n",
       "  <tbody>\n",
       "    <tr>\n",
       "      <td>SECURITY_DELAY</td>\n",
       "      <td>SECURITY_DELAY</td>\n",
       "      <td>311</td>\n",
       "    </tr>\n",
       "    <tr>\n",
       "      <td>WEATHER_DELAY</td>\n",
       "      <td>WEATHER_DELAY</td>\n",
       "      <td>4292</td>\n",
       "    </tr>\n",
       "    <tr>\n",
       "      <td>LATE_AIRCRAFT_DELAY</td>\n",
       "      <td>LATE_AIRCRAFT_DELAY</td>\n",
       "      <td>53000</td>\n",
       "    </tr>\n",
       "    <tr>\n",
       "      <td>CARRIER_DELAY</td>\n",
       "      <td>CARRIER_DELAY</td>\n",
       "      <td>49049</td>\n",
       "    </tr>\n",
       "    <tr>\n",
       "      <td>NAS_DELAY</td>\n",
       "      <td>NAS_DELAY</td>\n",
       "      <td>58108</td>\n",
       "    </tr>\n",
       "  </tbody>\n",
       "</table>\n",
       "</div>"
      ],
      "text/plain": [
       "                           Delays Causes  Values\n",
       "SECURITY_DELAY            SECURITY_DELAY     311\n",
       "WEATHER_DELAY              WEATHER_DELAY    4292\n",
       "LATE_AIRCRAFT_DELAY  LATE_AIRCRAFT_DELAY   53000\n",
       "CARRIER_DELAY              CARRIER_DELAY   49049\n",
       "NAS_DELAY                      NAS_DELAY   58108"
      ]
     },
     "execution_count": 96,
     "metadata": {},
     "output_type": "execute_result"
    }
   ],
   "source": [
    "df_delays_causes_2019"
   ]
  },
  {
   "cell_type": "code",
   "execution_count": 97,
   "metadata": {},
   "outputs": [
    {
     "data": {
      "text/plain": [
       "<matplotlib.axes._subplots.AxesSubplot at 0x11a72fa50>"
      ]
     },
     "execution_count": 97,
     "metadata": {},
     "output_type": "execute_result"
    },
    {
     "data": {
      "image/png": "[encoded data removed]",
      "text/plain": [
       "<Figure size 432x288 with 1 Axes>"
      ]
     },
     "metadata": {
      "needs_background": "light"
     },
     "output_type": "display_data"
    }
   ],
   "source": [
    "df_delays_causes_2019.plot(kind='bar',x=\"Delays Causes\", y=\"Values\")"
   ]
  },
  {
   "cell_type": "code",
   "execution_count": 98,
   "metadata": {},
   "outputs": [
    {
     "data": {
      "text/plain": [
       "<matplotlib.axes._subplots.AxesSubplot at 0x11a7cfa10>"
      ]
     },
     "execution_count": 98,
     "metadata": {},
     "output_type": "execute_result"
    },
    {
     "data": {
      "image/png": "[encoded data removed]",
      "text/plain": [
       "<Figure size 432x288 with 1 Axes>"
      ]
     },
     "metadata": {},
     "output_type": "display_data"
    }
   ],
   "source": [
    "df_delays_causes_2019.plot(kind='pie',x=\"Delays Causes\", y=\"Values\")"
   ]
  },
  {
   "cell_type": "markdown",
   "metadata": {},
   "source": [
    "# Let Now Summarized Our Finding\n"
   ]
  },
  {
   "cell_type": "code",
   "execution_count": 103,
   "metadata": {},
   "outputs": [
    {
     "data": {
      "text/plain": [
       "<matplotlib.axes._subplots.AxesSubplot at 0x152870650>"
      ]
     },
     "execution_count": 103,
     "metadata": {},
     "output_type": "execute_result"
    },
    {
     "data": {
      "image/png": "[encoded data removed]",
      "text/plain": [
       "<Figure size 432x288 with 1 Axes>"
      ]
     },
     "metadata": {
      "needs_background": "light"
     },
     "output_type": "display_data"
    }
   ],
   "source": [
    "trip_with_delay_2017.plot(kind='bar', x='ORIGIN_CITY_NAME', y='ARR_DELAY')"
   ]
  },
  {
   "cell_type": "code",
   "execution_count": 104,
   "metadata": {},
   "outputs": [
    {
     "data": {
      "text/plain": [
       "<matplotlib.axes._subplots.AxesSubplot at 0x17a124990>"
      ]
     },
     "execution_count": 104,
     "metadata": {},
     "output_type": "execute_result"
    },
    {
     "data": {
      "image/png": "[encoded data removed]",
      "text/plain": [
       "<Figure size 432x288 with 1 Axes>"
      ]
     },
     "metadata": {
      "needs_background": "light"
     },
     "output_type": "display_data"
    }
   ],
   "source": [
    "trip_with_delay_2018.plot(kind='bar', x='ORIGIN_CITY_NAME', y='ARR_DELAY')"
   ]
  },
  {
   "cell_type": "code",
   "execution_count": 105,
   "metadata": {},
   "outputs": [
    {
     "data": {
      "text/plain": [
       "<matplotlib.axes._subplots.AxesSubplot at 0x17a237a50>"
      ]
     },
     "execution_count": 105,
     "metadata": {},
     "output_type": "execute_result"
    },
    {
     "data": {
      "image/png": "[encoded data removed]",
      "text/plain": [
       "<Figure size 432x288 with 1 Axes>"
      ]
     },
     "metadata": {
      "needs_background": "light"
     },
     "output_type": "display_data"
    }
   ],
   "source": [
    "trip_with_delay_2019.plot(kind='bar', x='ORIGIN_CITY_NAME', y='ARR_DELAY')"
   ]
  },
  {
   "cell_type": "markdown",
   "metadata": {},
   "source": [
    "# Our finding shows the trips that has the most delays in 2017 is different than 2018 and 2019"
   ]
  },
  {
   "cell_type": "code",
   "execution_count": 107,
   "metadata": {},
   "outputs": [
    {
     "data": {
      "text/plain": [
       "<matplotlib.axes._subplots.AxesSubplot at 0x17a44a8d0>"
      ]
     },
     "execution_count": 107,
     "metadata": {},
     "output_type": "execute_result"
    },
    {
     "data": {
      "image/png": "[encoded data removed]",
      "text/plain": [
       "<Figure size 432x288 with 1 Axes>"
      ]
     },
     "metadata": {
      "needs_background": "light"
     },
     "output_type": "display_data"
    }
   ],
   "source": [
    "airline_with_most_cancellations_2017.plot(kind='bar', x='OP_UNIQUE_CARRIER')"
   ]
  },
  {
   "cell_type": "code",
   "execution_count": 108,
   "metadata": {},
   "outputs": [
    {
     "data": {
      "text/plain": [
       "<matplotlib.axes._subplots.AxesSubplot at 0x180699350>"
      ]
     },
     "execution_count": 108,
     "metadata": {},
     "output_type": "execute_result"
    },
    {
     "data": {
      "image/png": "[encoded data removed]",
      "text/plain": [
       "<Figure size 432x288 with 1 Axes>"
      ]
     },
     "metadata": {
      "needs_background": "light"
     },
     "output_type": "display_data"
    }
   ],
   "source": [
    "airline_with_most_cancellations_2018.plot(kind='bar', x='OP_UNIQUE_CARRIER')"
   ]
  },
  {
   "cell_type": "code",
   "execution_count": 109,
   "metadata": {},
   "outputs": [
    {
     "data": {
      "text/plain": [
       "<matplotlib.axes._subplots.AxesSubplot at 0x1806909d0>"
      ]
     },
     "execution_count": 109,
     "metadata": {},
     "output_type": "execute_result"
    },
    {
     "data": {
      "image/png": "[encoded data removed]",
      "text/plain": [
       "<Figure size 432x288 with 1 Axes>"
      ]
     },
     "metadata": {
      "needs_background": "light"
     },
     "output_type": "display_data"
    }
   ],
   "source": [
    "airline_with_most_cancellations_2019.plot(kind='bar', x='OP_UNIQUE_CARRIER')"
   ]
  },
  {
   "cell_type": "markdown",
   "metadata": {},
   "source": [
    "# Here We can see some airline comming back, such as AA(American Airline),WN(Southwest Airlines),AS(Alaska Airlines) that have the most cancellation those past 3 years"
   ]
  },
  {
   "cell_type": "code",
   "execution_count": 110,
   "metadata": {},
   "outputs": [
    {
     "data": {
      "text/plain": [
       "<matplotlib.axes._subplots.AxesSubplot at 0x180708390>"
      ]
     },
     "execution_count": 110,
     "metadata": {},
     "output_type": "execute_result"
    },
    {
     "data": {
      "image/png": "[encoded data removed]",
      "text/plain": [
       "<Figure size 432x288 with 1 Axes>"
      ]
     },
     "metadata": {},
     "output_type": "display_data"
    }
   ],
   "source": [
    "df_delays_causes_2017.plot(kind='pie',x=\"Delays Causes\", y=\"Values\")"
   ]
  },
  {
   "cell_type": "code",
   "execution_count": 111,
   "metadata": {},
   "outputs": [
    {
     "data": {
      "text/plain": [
       "<matplotlib.axes._subplots.AxesSubplot at 0x11d4f9e10>"
      ]
     },
     "execution_count": 111,
     "metadata": {},
     "output_type": "execute_result"
    },
    {
     "data": {
      "image/png": "[encoded data removed]",
      "text/plain": [
       "<Figure size 432x288 with 1 Axes>"
      ]
     },
     "metadata": {},
     "output_type": "display_data"
    }
   ],
   "source": [
    "df_delays_causes_2018.plot(kind='pie',x=\"Delays Causes\", y=\"Values\")"
   ]
  },
  {
   "cell_type": "code",
   "execution_count": 2,
   "metadata": {},
   "outputs": [
    {
     "ename": "NameError",
     "evalue": "name 'df_delays_causes_2019' is not defined",
     "output_type": "error",
     "traceback": [
      "\u001b[0;31m---------------------------------------------------------------------------\u001b[0m",
      "\u001b[0;31mNameError\u001b[0m                                 Traceback (most recent call last)",
      "\u001b[0;32m<ipython-input-2-fbae49a4b8dc>\u001b[0m in \u001b[0;36m<module>\u001b[0;34m\u001b[0m\n\u001b[0;32m----> 1\u001b[0;31m \u001b[0mdf_delays_causes_2019\u001b[0m\u001b[0;34m.\u001b[0m\u001b[0mplot\u001b[0m\u001b[0;34m(\u001b[0m\u001b[0mkind\u001b[0m\u001b[0;34m=\u001b[0m\u001b[0;34m'pie'\u001b[0m\u001b[0;34m,\u001b[0m\u001b[0mx\u001b[0m\u001b[0;34m=\u001b[0m\u001b[0;34m\"Delays Causes\"\u001b[0m\u001b[0;34m,\u001b[0m \u001b[0my\u001b[0m\u001b[0;34m=\u001b[0m\u001b[0;34m\"Values\"\u001b[0m\u001b[0;34m)\u001b[0m\u001b[0;34m\u001b[0m\u001b[0;34m\u001b[0m\u001b[0m\n\u001b[0m",
      "\u001b[0;31mNameError\u001b[0m: name 'df_delays_causes_2019' is not defined"
     ]
    }
   ],
   "source": [
    "df_delays_causes_2019.plot(kind='pie',x=\"Delays Causes\", y=\"Values\")"
   ]
  },
  {
   "cell_type": "markdown",
   "metadata": {},
   "source": [
    "# The Data clearly shows that the reason of the delays is due to the Carrier, Weather, National Air System"
   ]
  },
  {
   "cell_type": "markdown",
   "metadata": {},
   "source": [
    "------------------------------------------\n",
    "# Our Prediction\n",
    "\n",
    "------------------------------------------\n",
    "\n",
    "\n",
    "------------------------------------------\n",
    "## We will use linear regression to predict base on the data we have if delays will decrease with time or not\n",
    "------------------------------------------"
   ]
  },
  {
   "cell_type": "markdown",
   "metadata": {},
   "source": [
    "### first let merge all the data together"
   ]
  },
  {
   "cell_type": "code",
   "execution_count": 113,
   "metadata": {},
   "outputs": [],
   "source": [
    "all_data = data_2017.append(data_2018).append(data_2019)"
   ]
  },
  {
   "cell_type": "code",
   "execution_count": 114,
   "metadata": {},
   "outputs": [
    {
     "data": {
      "text/html": [
       "<div>\n",
       "<style scoped>\n",
       "    .dataframe tbody tr th:only-of-type {\n",
       "        vertical-align: middle;\n",
       "    }\n",
       "\n",
       "    .dataframe tbody tr th {\n",
       "        vertical-align: top;\n",
       "    }\n",
       "\n",
       "    .dataframe thead th {\n",
       "        text-align: right;\n",
       "    }\n",
       "</style>\n",
       "<table border=\"1\" class=\"dataframe\">\n",
       "  <thead>\n",
       "    <tr style=\"text-align: right;\">\n",
       "      <th></th>\n",
       "      <th>YEAR</th>\n",
       "      <th>QUARTER</th>\n",
       "      <th>MONTH</th>\n",
       "      <th>DAY_OF_MONTH</th>\n",
       "      <th>DAY_OF_WEEK</th>\n",
       "      <th>FL_DATE</th>\n",
       "      <th>OP_UNIQUE_CARRIER</th>\n",
       "      <th>OP_CARRIER_AIRLINE_ID</th>\n",
       "      <th>OP_CARRIER</th>\n",
       "      <th>ORIGIN_AIRPORT_ID</th>\n",
       "      <th>...</th>\n",
       "      <th>ARR_DELAY</th>\n",
       "      <th>ARR_DELAY_NEW</th>\n",
       "      <th>CANCELLED</th>\n",
       "      <th>CANCELLATION_CODE</th>\n",
       "      <th>CARRIER_DELAY</th>\n",
       "      <th>WEATHER_DELAY</th>\n",
       "      <th>NAS_DELAY</th>\n",
       "      <th>SECURITY_DELAY</th>\n",
       "      <th>LATE_AIRCRAFT_DELAY</th>\n",
       "      <th>Unnamed: 39</th>\n",
       "    </tr>\n",
       "  </thead>\n",
       "  <tbody>\n",
       "    <tr>\n",
       "      <td>0</td>\n",
       "      <td>2017</td>\n",
       "      <td>4</td>\n",
       "      <td>12</td>\n",
       "      <td>1</td>\n",
       "      <td>5</td>\n",
       "      <td>2017-12-01</td>\n",
       "      <td>OO</td>\n",
       "      <td>20304</td>\n",
       "      <td>OO</td>\n",
       "      <td>12892</td>\n",
       "      <td>...</td>\n",
       "      <td>-24.0</td>\n",
       "      <td>0.0</td>\n",
       "      <td>0.0</td>\n",
       "      <td>NaN</td>\n",
       "      <td>NaN</td>\n",
       "      <td>NaN</td>\n",
       "      <td>NaN</td>\n",
       "      <td>NaN</td>\n",
       "      <td>NaN</td>\n",
       "      <td>NaN</td>\n",
       "    </tr>\n",
       "    <tr>\n",
       "      <td>1</td>\n",
       "      <td>2017</td>\n",
       "      <td>4</td>\n",
       "      <td>12</td>\n",
       "      <td>1</td>\n",
       "      <td>5</td>\n",
       "      <td>2017-12-01</td>\n",
       "      <td>OO</td>\n",
       "      <td>20304</td>\n",
       "      <td>OO</td>\n",
       "      <td>12892</td>\n",
       "      <td>...</td>\n",
       "      <td>-17.0</td>\n",
       "      <td>0.0</td>\n",
       "      <td>0.0</td>\n",
       "      <td>NaN</td>\n",
       "      <td>NaN</td>\n",
       "      <td>NaN</td>\n",
       "      <td>NaN</td>\n",
       "      <td>NaN</td>\n",
       "      <td>NaN</td>\n",
       "      <td>NaN</td>\n",
       "    </tr>\n",
       "    <tr>\n",
       "      <td>2</td>\n",
       "      <td>2017</td>\n",
       "      <td>4</td>\n",
       "      <td>12</td>\n",
       "      <td>1</td>\n",
       "      <td>5</td>\n",
       "      <td>2017-12-01</td>\n",
       "      <td>OO</td>\n",
       "      <td>20304</td>\n",
       "      <td>OO</td>\n",
       "      <td>12892</td>\n",
       "      <td>...</td>\n",
       "      <td>-16.0</td>\n",
       "      <td>0.0</td>\n",
       "      <td>0.0</td>\n",
       "      <td>NaN</td>\n",
       "      <td>NaN</td>\n",
       "      <td>NaN</td>\n",
       "      <td>NaN</td>\n",
       "      <td>NaN</td>\n",
       "      <td>NaN</td>\n",
       "      <td>NaN</td>\n",
       "    </tr>\n",
       "    <tr>\n",
       "      <td>3</td>\n",
       "      <td>2017</td>\n",
       "      <td>4</td>\n",
       "      <td>12</td>\n",
       "      <td>1</td>\n",
       "      <td>5</td>\n",
       "      <td>2017-12-01</td>\n",
       "      <td>OO</td>\n",
       "      <td>20304</td>\n",
       "      <td>OO</td>\n",
       "      <td>13930</td>\n",
       "      <td>...</td>\n",
       "      <td>-13.0</td>\n",
       "      <td>0.0</td>\n",
       "      <td>0.0</td>\n",
       "      <td>NaN</td>\n",
       "      <td>NaN</td>\n",
       "      <td>NaN</td>\n",
       "      <td>NaN</td>\n",
       "      <td>NaN</td>\n",
       "      <td>NaN</td>\n",
       "      <td>NaN</td>\n",
       "    </tr>\n",
       "    <tr>\n",
       "      <td>4</td>\n",
       "      <td>2017</td>\n",
       "      <td>4</td>\n",
       "      <td>12</td>\n",
       "      <td>1</td>\n",
       "      <td>5</td>\n",
       "      <td>2017-12-01</td>\n",
       "      <td>OO</td>\n",
       "      <td>20304</td>\n",
       "      <td>OO</td>\n",
       "      <td>10140</td>\n",
       "      <td>...</td>\n",
       "      <td>-23.0</td>\n",
       "      <td>0.0</td>\n",
       "      <td>0.0</td>\n",
       "      <td>NaN</td>\n",
       "      <td>NaN</td>\n",
       "      <td>NaN</td>\n",
       "      <td>NaN</td>\n",
       "      <td>NaN</td>\n",
       "      <td>NaN</td>\n",
       "      <td>NaN</td>\n",
       "    </tr>\n",
       "  </tbody>\n",
       "</table>\n",
       "<p>5 rows × 40 columns</p>\n",
       "</div>"
      ],
      "text/plain": [
       "   YEAR  QUARTER  MONTH  DAY_OF_MONTH  DAY_OF_WEEK     FL_DATE  \\\n",
       "0  2017        4     12             1            5  2017-12-01   \n",
       "1  2017        4     12             1            5  2017-12-01   \n",
       "2  2017        4     12             1            5  2017-12-01   \n",
       "3  2017        4     12             1            5  2017-12-01   \n",
       "4  2017        4     12             1            5  2017-12-01   \n",
       "\n",
       "  OP_UNIQUE_CARRIER  OP_CARRIER_AIRLINE_ID OP_CARRIER  ORIGIN_AIRPORT_ID  ...  \\\n",
       "0                OO                  20304         OO              12892  ...   \n",
       "1                OO                  20304         OO              12892  ...   \n",
       "2                OO                  20304         OO              12892  ...   \n",
       "3                OO                  20304         OO              13930  ...   \n",
       "4                OO                  20304         OO              10140  ...   \n",
       "\n",
       "   ARR_DELAY  ARR_DELAY_NEW CANCELLED CANCELLATION_CODE CARRIER_DELAY  \\\n",
       "0      -24.0            0.0       0.0               NaN           NaN   \n",
       "1      -17.0            0.0       0.0               NaN           NaN   \n",
       "2      -16.0            0.0       0.0               NaN           NaN   \n",
       "3      -13.0            0.0       0.0               NaN           NaN   \n",
       "4      -23.0            0.0       0.0               NaN           NaN   \n",
       "\n",
       "   WEATHER_DELAY NAS_DELAY  SECURITY_DELAY  LATE_AIRCRAFT_DELAY  Unnamed: 39  \n",
       "0            NaN       NaN             NaN                  NaN          NaN  \n",
       "1            NaN       NaN             NaN                  NaN          NaN  \n",
       "2            NaN       NaN             NaN                  NaN          NaN  \n",
       "3            NaN       NaN             NaN                  NaN          NaN  \n",
       "4            NaN       NaN             NaN                  NaN          NaN  \n",
       "\n",
       "[5 rows x 40 columns]"
      ]
     },
     "execution_count": 114,
     "metadata": {},
     "output_type": "execute_result"
    }
   ],
   "source": [
    "all_data.head()"
   ]
  },
  {
   "cell_type": "code",
   "execution_count": 116,
   "metadata": {},
   "outputs": [],
   "source": [
    "import statsmodels.api as sm"
   ]
  },
  {
   "cell_type": "markdown",
   "metadata": {},
   "source": [
    "# We will Replace All NaN with 0 (Data Cleaning)"
   ]
  },
  {
   "cell_type": "code",
   "execution_count": 131,
   "metadata": {},
   "outputs": [],
   "source": [
    "all_data_clean = all_data.fillna(0)\n",
    "\n"
   ]
  },
  {
   "cell_type": "code",
   "execution_count": 133,
   "metadata": {},
   "outputs": [
    {
     "data": {
      "text/html": [
       "<div>\n",
       "<style scoped>\n",
       "    .dataframe tbody tr th:only-of-type {\n",
       "        vertical-align: middle;\n",
       "    }\n",
       "\n",
       "    .dataframe tbody tr th {\n",
       "        vertical-align: top;\n",
       "    }\n",
       "\n",
       "    .dataframe thead th {\n",
       "        text-align: right;\n",
       "    }\n",
       "</style>\n",
       "<table border=\"1\" class=\"dataframe\">\n",
       "  <thead>\n",
       "    <tr style=\"text-align: right;\">\n",
       "      <th></th>\n",
       "      <th>YEAR</th>\n",
       "      <th>QUARTER</th>\n",
       "      <th>MONTH</th>\n",
       "      <th>DAY_OF_MONTH</th>\n",
       "      <th>DAY_OF_WEEK</th>\n",
       "      <th>FL_DATE</th>\n",
       "      <th>OP_UNIQUE_CARRIER</th>\n",
       "      <th>OP_CARRIER_AIRLINE_ID</th>\n",
       "      <th>OP_CARRIER</th>\n",
       "      <th>ORIGIN_AIRPORT_ID</th>\n",
       "      <th>...</th>\n",
       "      <th>ARR_DELAY</th>\n",
       "      <th>ARR_DELAY_NEW</th>\n",
       "      <th>CANCELLED</th>\n",
       "      <th>CANCELLATION_CODE</th>\n",
       "      <th>CARRIER_DELAY</th>\n",
       "      <th>WEATHER_DELAY</th>\n",
       "      <th>NAS_DELAY</th>\n",
       "      <th>SECURITY_DELAY</th>\n",
       "      <th>LATE_AIRCRAFT_DELAY</th>\n",
       "      <th>Unnamed: 39</th>\n",
       "    </tr>\n",
       "  </thead>\n",
       "  <tbody>\n",
       "    <tr>\n",
       "      <td>0</td>\n",
       "      <td>2017</td>\n",
       "      <td>4</td>\n",
       "      <td>12</td>\n",
       "      <td>1</td>\n",
       "      <td>5</td>\n",
       "      <td>2017-12-01</td>\n",
       "      <td>OO</td>\n",
       "      <td>20304</td>\n",
       "      <td>OO</td>\n",
       "      <td>12892</td>\n",
       "      <td>...</td>\n",
       "      <td>-24.0</td>\n",
       "      <td>0.0</td>\n",
       "      <td>0.0</td>\n",
       "      <td>0</td>\n",
       "      <td>0.0</td>\n",
       "      <td>0.0</td>\n",
       "      <td>0.0</td>\n",
       "      <td>0.0</td>\n",
       "      <td>0.0</td>\n",
       "      <td>0.0</td>\n",
       "    </tr>\n",
       "    <tr>\n",
       "      <td>1</td>\n",
       "      <td>2017</td>\n",
       "      <td>4</td>\n",
       "      <td>12</td>\n",
       "      <td>1</td>\n",
       "      <td>5</td>\n",
       "      <td>2017-12-01</td>\n",
       "      <td>OO</td>\n",
       "      <td>20304</td>\n",
       "      <td>OO</td>\n",
       "      <td>12892</td>\n",
       "      <td>...</td>\n",
       "      <td>-17.0</td>\n",
       "      <td>0.0</td>\n",
       "      <td>0.0</td>\n",
       "      <td>0</td>\n",
       "      <td>0.0</td>\n",
       "      <td>0.0</td>\n",
       "      <td>0.0</td>\n",
       "      <td>0.0</td>\n",
       "      <td>0.0</td>\n",
       "      <td>0.0</td>\n",
       "    </tr>\n",
       "    <tr>\n",
       "      <td>2</td>\n",
       "      <td>2017</td>\n",
       "      <td>4</td>\n",
       "      <td>12</td>\n",
       "      <td>1</td>\n",
       "      <td>5</td>\n",
       "      <td>2017-12-01</td>\n",
       "      <td>OO</td>\n",
       "      <td>20304</td>\n",
       "      <td>OO</td>\n",
       "      <td>12892</td>\n",
       "      <td>...</td>\n",
       "      <td>-16.0</td>\n",
       "      <td>0.0</td>\n",
       "      <td>0.0</td>\n",
       "      <td>0</td>\n",
       "      <td>0.0</td>\n",
       "      <td>0.0</td>\n",
       "      <td>0.0</td>\n",
       "      <td>0.0</td>\n",
       "      <td>0.0</td>\n",
       "      <td>0.0</td>\n",
       "    </tr>\n",
       "    <tr>\n",
       "      <td>3</td>\n",
       "      <td>2017</td>\n",
       "      <td>4</td>\n",
       "      <td>12</td>\n",
       "      <td>1</td>\n",
       "      <td>5</td>\n",
       "      <td>2017-12-01</td>\n",
       "      <td>OO</td>\n",
       "      <td>20304</td>\n",
       "      <td>OO</td>\n",
       "      <td>13930</td>\n",
       "      <td>...</td>\n",
       "      <td>-13.0</td>\n",
       "      <td>0.0</td>\n",
       "      <td>0.0</td>\n",
       "      <td>0</td>\n",
       "      <td>0.0</td>\n",
       "      <td>0.0</td>\n",
       "      <td>0.0</td>\n",
       "      <td>0.0</td>\n",
       "      <td>0.0</td>\n",
       "      <td>0.0</td>\n",
       "    </tr>\n",
       "    <tr>\n",
       "      <td>4</td>\n",
       "      <td>2017</td>\n",
       "      <td>4</td>\n",
       "      <td>12</td>\n",
       "      <td>1</td>\n",
       "      <td>5</td>\n",
       "      <td>2017-12-01</td>\n",
       "      <td>OO</td>\n",
       "      <td>20304</td>\n",
       "      <td>OO</td>\n",
       "      <td>10140</td>\n",
       "      <td>...</td>\n",
       "      <td>-23.0</td>\n",
       "      <td>0.0</td>\n",
       "      <td>0.0</td>\n",
       "      <td>0</td>\n",
       "      <td>0.0</td>\n",
       "      <td>0.0</td>\n",
       "      <td>0.0</td>\n",
       "      <td>0.0</td>\n",
       "      <td>0.0</td>\n",
       "      <td>0.0</td>\n",
       "    </tr>\n",
       "  </tbody>\n",
       "</table>\n",
       "<p>5 rows × 40 columns</p>\n",
       "</div>"
      ],
      "text/plain": [
       "   YEAR  QUARTER  MONTH  DAY_OF_MONTH  DAY_OF_WEEK     FL_DATE  \\\n",
       "0  2017        4     12             1            5  2017-12-01   \n",
       "1  2017        4     12             1            5  2017-12-01   \n",
       "2  2017        4     12             1            5  2017-12-01   \n",
       "3  2017        4     12             1            5  2017-12-01   \n",
       "4  2017        4     12             1            5  2017-12-01   \n",
       "\n",
       "  OP_UNIQUE_CARRIER  OP_CARRIER_AIRLINE_ID OP_CARRIER  ORIGIN_AIRPORT_ID  ...  \\\n",
       "0                OO                  20304         OO              12892  ...   \n",
       "1                OO                  20304         OO              12892  ...   \n",
       "2                OO                  20304         OO              12892  ...   \n",
       "3                OO                  20304         OO              13930  ...   \n",
       "4                OO                  20304         OO              10140  ...   \n",
       "\n",
       "   ARR_DELAY  ARR_DELAY_NEW CANCELLED CANCELLATION_CODE CARRIER_DELAY  \\\n",
       "0      -24.0            0.0       0.0                 0           0.0   \n",
       "1      -17.0            0.0       0.0                 0           0.0   \n",
       "2      -16.0            0.0       0.0                 0           0.0   \n",
       "3      -13.0            0.0       0.0                 0           0.0   \n",
       "4      -23.0            0.0       0.0                 0           0.0   \n",
       "\n",
       "   WEATHER_DELAY NAS_DELAY  SECURITY_DELAY  LATE_AIRCRAFT_DELAY  Unnamed: 39  \n",
       "0            0.0       0.0             0.0                  0.0          0.0  \n",
       "1            0.0       0.0             0.0                  0.0          0.0  \n",
       "2            0.0       0.0             0.0                  0.0          0.0  \n",
       "3            0.0       0.0             0.0                  0.0          0.0  \n",
       "4            0.0       0.0             0.0                  0.0          0.0  \n",
       "\n",
       "[5 rows x 40 columns]"
      ]
     },
     "execution_count": 133,
     "metadata": {},
     "output_type": "execute_result"
    }
   ],
   "source": [
    "all_data.head()"
   ]
  },
  {
   "cell_type": "code",
   "execution_count": 158,
   "metadata": {},
   "outputs": [],
   "source": [
    "prediction_aircraft_delay = sm.OLS(all_data[\"LATE_AIRCRAFT_DELAY\"],all_data[\"WEATHER_DELAY\"]).fit()"
   ]
  },
  {
   "cell_type": "code",
   "execution_count": 159,
   "metadata": {},
   "outputs": [
    {
     "data": {
      "text/html": [
       "<table class=\"simpletable\">\n",
       "<caption>OLS Regression Results</caption>\n",
       "<tr>\n",
       "  <th>Dep. Variable:</th>    <td>LATE_AIRCRAFT_DELAY</td> <th>  R-squared (uncentered):</th>       <td>   0.001</td>  \n",
       "</tr>\n",
       "<tr>\n",
       "  <th>Model:</th>                    <td>OLS</td>         <th>  Adj. R-squared (uncentered):</th>  <td>   0.001</td>  \n",
       "</tr>\n",
       "<tr>\n",
       "  <th>Method:</th>              <td>Least Squares</td>    <th>  F-statistic:       </th>           <td>   1457.</td>  \n",
       "</tr>\n",
       "<tr>\n",
       "  <th>Date:</th>              <td>Thu, 19 Dec 2019</td>   <th>  Prob (F-statistic):</th>           <td>1.06e-318</td> \n",
       "</tr>\n",
       "<tr>\n",
       "  <th>Time:</th>                  <td>04:39:42</td>       <th>  Log-Likelihood:    </th>          <td>-7.6692e+06</td>\n",
       "</tr>\n",
       "<tr>\n",
       "  <th>No. Observations:</th>       <td>1694061</td>       <th>  AIC:               </th>           <td>1.534e+07</td> \n",
       "</tr>\n",
       "<tr>\n",
       "  <th>Df Residuals:</th>           <td>1694060</td>       <th>  BIC:               </th>           <td>1.534e+07</td> \n",
       "</tr>\n",
       "<tr>\n",
       "  <th>Df Model:</th>               <td>     1</td>        <th>                     </th>               <td> </td>     \n",
       "</tr>\n",
       "<tr>\n",
       "  <th>Covariance Type:</th>       <td>nonrobust</td>      <th>                     </th>               <td> </td>     \n",
       "</tr>\n",
       "</table>\n",
       "<table class=\"simpletable\">\n",
       "<tr>\n",
       "        <td></td>           <th>coef</th>     <th>std err</th>      <th>t</th>      <th>P>|t|</th>  <th>[0.025</th>    <th>0.975]</th>  \n",
       "</tr>\n",
       "<tr>\n",
       "  <th>WEATHER_DELAY</th> <td>    0.0503</td> <td>    0.001</td> <td>   38.174</td> <td> 0.000</td> <td>    0.048</td> <td>    0.053</td>\n",
       "</tr>\n",
       "</table>\n",
       "<table class=\"simpletable\">\n",
       "<tr>\n",
       "  <th>Omnibus:</th>       <td>3115034.989</td> <th>  Durbin-Watson:     </th>    <td>   1.778</td>    \n",
       "</tr>\n",
       "<tr>\n",
       "  <th>Prob(Omnibus):</th>   <td> 0.000</td>    <th>  Jarque-Bera (JB):  </th> <td>12453197505.752</td>\n",
       "</tr>\n",
       "<tr>\n",
       "  <th>Skew:</th>            <td>13.376</td>    <th>  Prob(JB):          </th>    <td>    0.00</td>    \n",
       "</tr>\n",
       "<tr>\n",
       "  <th>Kurtosis:</th>        <td>422.178</td>   <th>  Cond. No.          </th>    <td>    1.00</td>    \n",
       "</tr>\n",
       "</table><br/><br/>Warnings:<br/>[1] Standard Errors assume that the covariance matrix of the errors is correctly specified."
      ],
      "text/plain": [
       "<class 'statsmodels.iolib.summary.Summary'>\n",
       "\"\"\"\n",
       "                                 OLS Regression Results                                 \n",
       "========================================================================================\n",
       "Dep. Variable:     LATE_AIRCRAFT_DELAY   R-squared (uncentered):                   0.001\n",
       "Model:                             OLS   Adj. R-squared (uncentered):              0.001\n",
       "Method:                  Least Squares   F-statistic:                              1457.\n",
       "Date:                 Thu, 19 Dec 2019   Prob (F-statistic):                   1.06e-318\n",
       "Time:                         04:39:42   Log-Likelihood:                     -7.6692e+06\n",
       "No. Observations:              1694061   AIC:                                  1.534e+07\n",
       "Df Residuals:                  1694060   BIC:                                  1.534e+07\n",
       "Df Model:                            1                                                  \n",
       "Covariance Type:             nonrobust                                                  \n",
       "=================================================================================\n",
       "                    coef    std err          t      P>|t|      [0.025      0.975]\n",
       "---------------------------------------------------------------------------------\n",
       "WEATHER_DELAY     0.0503      0.001     38.174      0.000       0.048       0.053\n",
       "==============================================================================\n",
       "Omnibus:                  3115034.989   Durbin-Watson:                   1.778\n",
       "Prob(Omnibus):                  0.000   Jarque-Bera (JB):      12453197505.752\n",
       "Skew:                          13.376   Prob(JB):                         0.00\n",
       "Kurtosis:                     422.178   Cond. No.                         1.00\n",
       "==============================================================================\n",
       "\n",
       "Warnings:\n",
       "[1] Standard Errors assume that the covariance matrix of the errors is correctly specified.\n",
       "\"\"\""
      ]
     },
     "execution_count": 159,
     "metadata": {},
     "output_type": "execute_result"
    }
   ],
   "source": [
    "prediction_security_delay.summary()"
   ]
  },
  {
   "cell_type": "markdown",
   "metadata": {},
   "source": [
    "## using the code in the [documentation](https://www.statsmodels.org/stable/generated/statsmodels.graphics.regressionplots.plot_fit.html) we can vizualize our linear regression"
   ]
  },
  {
   "cell_type": "code",
   "execution_count": 160,
   "metadata": {},
   "outputs": [],
   "source": [
    "import matplotlib.pyplot as plt"
   ]
  },
  {
   "cell_type": "code",
   "execution_count": 161,
   "metadata": {},
   "outputs": [
    {
     "data": {
      "text/plain": [
       "Text(0.5, 1.0, 'Linear Regression')"
      ]
     },
     "execution_count": 161,
     "metadata": {},
     "output_type": "execute_result"
    },
    {
     "data": {
      "image/png": "[encoded data removed]",
      "text/plain": [
       "<Figure size 432x288 with 1 Axes>"
      ]
     },
     "metadata": {
      "needs_background": "light"
     },
     "output_type": "display_data"
    }
   ],
   "source": [
    "fig, ax = plt.subplots()\n",
    "fig = sm.graphics.plot_fit(prediction_security_delay, 0, ax=ax)\n",
    "ax.set_ylabel(\"WEATHER_DELAY\")\n",
    "ax.set_xlabel(\"LATE_AIRCRAFT_DELAY\")\n",
    "ax.set_title(\"Linear Regression\")"
   ]
  },
  {
   "cell_type": "code",
   "execution_count": 162,
   "metadata": {},
   "outputs": [],
   "source": [
    "plt.show()"
   ]
  },
  {
   "cell_type": "markdown",
   "metadata": {},
   "source": [
    "## here in this relation between weather_delay and late_aircraft we can see clearly that the fitted point going up. So our prediction shows that the delay won't get better"
   ]
  },
  {
   "cell_type": "code",
   "execution_count": 163,
   "metadata": {},
   "outputs": [],
   "source": [
    "prediction_carrier_delay = sm.OLS(all_data[\"CARRIER_DELAY\"],all_data[\"WEATHER_DELAY\"]).fit()"
   ]
  },
  {
   "cell_type": "code",
   "execution_count": 164,
   "metadata": {},
   "outputs": [
    {
     "data": {
      "text/html": [
       "<table class=\"simpletable\">\n",
       "<caption>OLS Regression Results</caption>\n",
       "<tr>\n",
       "  <th>Dep. Variable:</th>      <td>CARRIER_DELAY</td>  <th>  R-squared (uncentered):</th>       <td>   0.000</td>  \n",
       "</tr>\n",
       "<tr>\n",
       "  <th>Model:</th>                   <td>OLS</td>       <th>  Adj. R-squared (uncentered):</th>  <td>   0.000</td>  \n",
       "</tr>\n",
       "<tr>\n",
       "  <th>Method:</th>             <td>Least Squares</td>  <th>  F-statistic:       </th>           <td>   21.60</td>  \n",
       "</tr>\n",
       "<tr>\n",
       "  <th>Date:</th>             <td>Thu, 19 Dec 2019</td> <th>  Prob (F-statistic):</th>           <td>3.37e-06</td>  \n",
       "</tr>\n",
       "<tr>\n",
       "  <th>Time:</th>                 <td>04:40:32</td>     <th>  Log-Likelihood:    </th>          <td>-8.0395e+06</td>\n",
       "</tr>\n",
       "<tr>\n",
       "  <th>No. Observations:</th>      <td>1694061</td>     <th>  AIC:               </th>           <td>1.608e+07</td> \n",
       "</tr>\n",
       "<tr>\n",
       "  <th>Df Residuals:</th>          <td>1694060</td>     <th>  BIC:               </th>           <td>1.608e+07</td> \n",
       "</tr>\n",
       "<tr>\n",
       "  <th>Df Model:</th>              <td>     1</td>      <th>                     </th>               <td> </td>     \n",
       "</tr>\n",
       "<tr>\n",
       "  <th>Covariance Type:</th>      <td>nonrobust</td>    <th>                     </th>               <td> </td>     \n",
       "</tr>\n",
       "</table>\n",
       "<table class=\"simpletable\">\n",
       "<tr>\n",
       "        <td></td>           <th>coef</th>     <th>std err</th>      <th>t</th>      <th>P>|t|</th>  <th>[0.025</th>    <th>0.975]</th>  \n",
       "</tr>\n",
       "<tr>\n",
       "  <th>WEATHER_DELAY</th> <td>    0.0076</td> <td>    0.002</td> <td>    4.647</td> <td> 0.000</td> <td>    0.004</td> <td>    0.011</td>\n",
       "</tr>\n",
       "</table>\n",
       "<table class=\"simpletable\">\n",
       "<tr>\n",
       "  <th>Omnibus:</th>       <td>3910825.712</td> <th>  Durbin-Watson:     </th>    <td>   1.903</td>    \n",
       "</tr>\n",
       "<tr>\n",
       "  <th>Prob(Omnibus):</th>   <td> 0.000</td>    <th>  Jarque-Bera (JB):  </th> <td>40821705195.753</td>\n",
       "</tr>\n",
       "<tr>\n",
       "  <th>Skew:</th>            <td>22.664</td>    <th>  Prob(JB):          </th>    <td>    0.00</td>    \n",
       "</tr>\n",
       "<tr>\n",
       "  <th>Kurtosis:</th>        <td>762.126</td>   <th>  Cond. No.          </th>    <td>    1.00</td>    \n",
       "</tr>\n",
       "</table><br/><br/>Warnings:<br/>[1] Standard Errors assume that the covariance matrix of the errors is correctly specified."
      ],
      "text/plain": [
       "<class 'statsmodels.iolib.summary.Summary'>\n",
       "\"\"\"\n",
       "                                 OLS Regression Results                                \n",
       "=======================================================================================\n",
       "Dep. Variable:          CARRIER_DELAY   R-squared (uncentered):                   0.000\n",
       "Model:                            OLS   Adj. R-squared (uncentered):              0.000\n",
       "Method:                 Least Squares   F-statistic:                              21.60\n",
       "Date:                Thu, 19 Dec 2019   Prob (F-statistic):                    3.37e-06\n",
       "Time:                        04:40:32   Log-Likelihood:                     -8.0395e+06\n",
       "No. Observations:             1694061   AIC:                                  1.608e+07\n",
       "Df Residuals:                 1694060   BIC:                                  1.608e+07\n",
       "Df Model:                           1                                                  \n",
       "Covariance Type:            nonrobust                                                  \n",
       "=================================================================================\n",
       "                    coef    std err          t      P>|t|      [0.025      0.975]\n",
       "---------------------------------------------------------------------------------\n",
       "WEATHER_DELAY     0.0076      0.002      4.647      0.000       0.004       0.011\n",
       "==============================================================================\n",
       "Omnibus:                  3910825.712   Durbin-Watson:                   1.903\n",
       "Prob(Omnibus):                  0.000   Jarque-Bera (JB):      40821705195.753\n",
       "Skew:                          22.664   Prob(JB):                         0.00\n",
       "Kurtosis:                     762.126   Cond. No.                         1.00\n",
       "==============================================================================\n",
       "\n",
       "Warnings:\n",
       "[1] Standard Errors assume that the covariance matrix of the errors is correctly specified.\n",
       "\"\"\""
      ]
     },
     "execution_count": 164,
     "metadata": {},
     "output_type": "execute_result"
    }
   ],
   "source": [
    "prediction_carrier_delay.summary()"
   ]
  },
  {
   "cell_type": "code",
   "execution_count": 167,
   "metadata": {},
   "outputs": [
    {
     "data": {
      "text/plain": [
       "Text(0.5, 1.0, 'Linear Regression')"
      ]
     },
     "execution_count": 167,
     "metadata": {},
     "output_type": "execute_result"
    },
    {
     "data": {
      "image/png": "[encoded data removed]",
      "text/plain": [
       "<Figure size 432x288 with 1 Axes>"
      ]
     },
     "metadata": {
      "needs_background": "light"
     },
     "output_type": "display_data"
    }
   ],
   "source": [
    "fig, ax = plt.subplots()\n",
    "fig = sm.graphics.plot_fit(prediction_carrier_delay, 0, ax=ax)\n",
    "ax.set_ylabel(\"WEATHER_DELAY\")\n",
    "ax.set_xlabel(\"CARRIER_DELAY\")\n",
    "ax.set_title(\"Linear Regression\")"
   ]
  },
  {
   "cell_type": "code",
   "execution_count": 168,
   "metadata": {},
   "outputs": [],
   "source": [
    "plt.show()"
   ]
  },
  {
   "cell_type": "markdown",
   "metadata": {},
   "source": [
    "# our data predict that the CARRIER_DELAY will remain the same"
   ]
  },
  {
   "cell_type": "code",
   "execution_count": null,
   "metadata": {},
   "outputs": [],
   "source": []
  }
 ],
 "metadata": {
  "kernelspec": {
   "display_name": "Python 3",
   "language": "python",
   "name": "python3"
  },
  "language_info": {
   "codemirror_mode": {
    "name": "ipython",
    "version": 3
   },
   "file_extension": ".py",
   "mimetype": "text/x-python",
   "name": "python",
   "nbconvert_exporter": "python",
   "pygments_lexer": "ipython3",
   "version": "3.7.3"
  }
 },
 "nbformat": 4,
 "nbformat_minor": 2
}
